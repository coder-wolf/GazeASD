{
 "cells": [
  {
   "cell_type": "markdown",
   "id": "c1832d61",
   "metadata": {
    "papermill": {
     "duration": 0.00483,
     "end_time": "2024-06-08T14:34:11.087217",
     "exception": false,
     "start_time": "2024-06-08T14:34:11.082387",
     "status": "completed"
    },
    "tags": []
   },
   "source": [
    "## 1.1 **Dataset Preprocessing:** Load, Clean, Preprocess data"
   ]
  },
  {
   "cell_type": "code",
   "execution_count": 1,
   "id": "7bd442db",
   "metadata": {
    "execution": {
     "iopub.execute_input": "2024-06-08T14:34:11.097231Z",
     "iopub.status.busy": "2024-06-08T14:34:11.096971Z",
     "iopub.status.idle": "2024-06-08T14:35:14.644611Z",
     "shell.execute_reply": "2024-06-08T14:35:14.643498Z"
    },
    "papermill": {
     "duration": 63.55511,
     "end_time": "2024-06-08T14:35:14.646804",
     "exception": false,
     "start_time": "2024-06-08T14:34:11.091694",
     "status": "completed"
    },
    "tags": []
   },
   "outputs": [
    {
     "name": "stdout",
     "output_type": "stream",
     "text": [
      "1.1 - 1: Dataset Loaded\n",
      "1.1 - 2: Dataset Cleaning Complete\n"
     ]
    }
   ],
   "source": [
    "# =======================================================\n",
    "# ============== Load the dataset =======================\n",
    "# =======================================================\n",
    "\n",
    "import pandas as pd\n",
    "import os\n",
    "import warnings\n",
    "\n",
    "warnings.filterwarnings('ignore')\n",
    "directory = 'dataset/' # local directory\n",
    "directory = '/kaggle/input/jules-varne/dataset/' # kaggle directory\n",
    "\n",
    "df = pd.DataFrame()\n",
    "\n",
    "for filename in os.listdir(directory):\n",
    "    if filename.endswith(\".csv\"):\n",
    "        currFile = pd.read_csv(os.path.join(directory, filename))\n",
    "        df = pd.concat([df, currFile], ignore_index=True)\n",
    "\n",
    "print(\"1.1 - 1: Dataset Loaded\")\n",
    "# =======================================================\n",
    "# =============== Cleaning the dataset ==================\n",
    "# =======================================================\n",
    "\n",
    "columns = [\n",
    "    \"RecordingTime [ms]\",\n",
    "    \"Time of Day [h:m:s:ms]\",\n",
    "    \"Participant\", \n",
    "    \"Pupil Diameter Right [mm]\",\n",
    "    \"Pupil Diameter Left [mm]\",\n",
    "    \"Point of Regard Right X [px]\",\n",
    "    \"Point of Regard Right Y [px]\",\n",
    "    \"Point of Regard Left X [px]\", \n",
    "    \"Point of Regard Left Y [px]\", \n",
    "    \"Category Right\", \n",
    "    \"Category Left\",\n",
    "\n",
    "]\n",
    "\n",
    "\n",
    "df = df[columns] # DONE: remove these extra variables. They are eating up memory.\n",
    "\n",
    "# --------------------------------------------------\n",
    "\n",
    "# df = df_0_columns_separated \n",
    "df[\"RecordingTime [ms]\"].describe()\n",
    "\n",
    "is_null_in_column = df['RecordingTime [ms]'].isnull().any()\n",
    "is_null_in_column \n",
    "\n",
    "# df_1_rec_time_processed = df # TODO: remove these extra variables. They are eating up memory.\n",
    "\n",
    "# --------------------------------------------------\n",
    "\n",
    "\n",
    "# df = df_1_rec_time_processed\n",
    "df[\"Time of Day [h:m:s:ms]\"].describe()\n",
    "\n",
    "is_null_in_column = df['Time of Day [h:m:s:ms]'].isnull().any()\n",
    "is_null_in_column # same, no null\n",
    "\n",
    "# df_2_time_of_day = df\n",
    "# --------------------------------------------------\n",
    "\n",
    "# df = df_2_time_of_day\n",
    "df = df[(df['Participant'] != 'Unidentified(Neg)') & (df['Participant'] != 'Unidentified(Pos)')]\n",
    "df[\"Participant\"] = pd.to_numeric(df[\"Participant\"], errors='coerce')\n",
    "\n",
    "# df_3_participant = df # DONE: remove these extra variables. They are eating up memory.\n",
    "# --------------------------------------------------\n",
    "# df = df_3_participant\n",
    "\n",
    "\n",
    "column_name = \"Pupil Diameter Right [mm]\"\n",
    "\n",
    "df[column_name] = df[column_name].astype(str) \n",
    "df = df[pd.to_numeric(df[column_name], errors='coerce').notnull()]\n",
    "df[column_name] = pd.to_numeric(df[column_name], errors='coerce') \n",
    "df = df[df[column_name] != 0] \n",
    "\n",
    "column_name = \"Pupil Diameter Left [mm]\"\n",
    "\n",
    "df[column_name] = df[column_name].astype(str)\n",
    "df = df[pd.to_numeric(df[column_name], errors='coerce').notnull()]  \n",
    "df[column_name] = pd.to_numeric(df[column_name], errors='coerce') \n",
    "df = df[df[column_name] != 0] \n",
    "\n",
    "\n",
    "# df_5_pupil_both = df # TODO: remove these extra variables. They are eating up memory.\n",
    "# --------------------------------------------------\n",
    "point_of_regard_idx = [\n",
    "    \"Point of Regard Right X [px]\",\n",
    "    \"Point of Regard Right Y [px]\",\n",
    "    \"Point of Regard Left X [px]\",\n",
    "    \"Point of Regard Left Y [px]\",\n",
    "]\n",
    "\n",
    "\n",
    "for point in point_of_regard_idx:\n",
    "    df.dropna(subset=[point], inplace=True)\n",
    "    df = df.drop(df[df[point] == '-'].index)\n",
    "    a = pd.to_numeric(df[point])\n",
    "\n",
    "# df_9_point_of_regard = df_5_pupil_both # TODO: remove these extra variables. They are eating up memory.\n",
    "# --------------------------------------------------\n",
    "\n",
    "stays = [\n",
    "    \"Fixation\",\n",
    "    \"Saccade\",\n",
    "    \"Blink\"\n",
    "]\n",
    "\n",
    "goes = [\n",
    "    \"Separator\",\n",
    "    \"-\",\n",
    "    \"Left Click\",\n",
    "    # Null\n",
    "]\n",
    "\n",
    "\n",
    "# df = df_9_point_of_regard\n",
    "\n",
    "df = df[df['Category Left'].isin(stays)]\n",
    "df = df[df['Category Right'].isin(stays)]\n",
    "\n",
    "df = pd.get_dummies(df, columns=['Category Left'], prefix=['Category Left'])\n",
    "df = pd.get_dummies(df, columns=['Category Right'], prefix=['Category Right'])\n",
    "df.head()\n",
    "\n",
    "# df_final = df\n",
    "# df = df_final\n",
    "# --------------------------------------------------\n",
    "metadata_dir = \"./Metadata_Participants.csv\" #local dir\n",
    "metadata_dir = \"/kaggle/input/junes-verne-metadata/Metadata_Participants.csv\" #kaggle dir\n",
    "\n",
    "metadata = pd.read_csv(metadata_dir)\n",
    "subjectClass = dict()\n",
    "for idx, row in metadata.iterrows():\n",
    "    subject = (row[\"ParticipantID\"])\n",
    "    category = (row[\"Class\"])\n",
    "    subjectClass[subject] = 1 if category == 'ASD' else 0\n",
    "\n",
    "def getClass(subjectId):\n",
    "    return subjectClass[subjectId]\n",
    "\n",
    "print(\"1.1 - 2: Dataset Cleaning Complete\")\n",
    "# --------------------------------------------------"
   ]
  },
  {
   "cell_type": "code",
   "execution_count": 2,
   "id": "0eda4d30",
   "metadata": {
    "execution": {
     "iopub.execute_input": "2024-06-08T14:35:14.657501Z",
     "iopub.status.busy": "2024-06-08T14:35:14.657235Z",
     "iopub.status.idle": "2024-06-08T14:35:14.677996Z",
     "shell.execute_reply": "2024-06-08T14:35:14.677117Z"
    },
    "papermill": {
     "duration": 0.028551,
     "end_time": "2024-06-08T14:35:14.680091",
     "exception": false,
     "start_time": "2024-06-08T14:35:14.651540",
     "status": "completed"
    },
    "tags": []
   },
   "outputs": [
    {
     "data": {
      "text/html": [
       "<div>\n",
       "<style scoped>\n",
       "    .dataframe tbody tr th:only-of-type {\n",
       "        vertical-align: middle;\n",
       "    }\n",
       "\n",
       "    .dataframe tbody tr th {\n",
       "        vertical-align: top;\n",
       "    }\n",
       "\n",
       "    .dataframe thead th {\n",
       "        text-align: right;\n",
       "    }\n",
       "</style>\n",
       "<table border=\"1\" class=\"dataframe\">\n",
       "  <thead>\n",
       "    <tr style=\"text-align: right;\">\n",
       "      <th></th>\n",
       "      <th>RecordingTime [ms]</th>\n",
       "      <th>Time of Day [h:m:s:ms]</th>\n",
       "      <th>Participant</th>\n",
       "      <th>Pupil Diameter Right [mm]</th>\n",
       "      <th>Pupil Diameter Left [mm]</th>\n",
       "      <th>Point of Regard Right X [px]</th>\n",
       "      <th>Point of Regard Right Y [px]</th>\n",
       "      <th>Point of Regard Left X [px]</th>\n",
       "      <th>Point of Regard Left Y [px]</th>\n",
       "      <th>Category Left_Blink</th>\n",
       "      <th>Category Left_Fixation</th>\n",
       "      <th>Category Left_Saccade</th>\n",
       "      <th>Category Right_Blink</th>\n",
       "      <th>Category Right_Fixation</th>\n",
       "      <th>Category Right_Saccade</th>\n",
       "    </tr>\n",
       "  </thead>\n",
       "  <tbody>\n",
       "    <tr>\n",
       "      <th>194500</th>\n",
       "      <td>4780020.865</td>\n",
       "      <td>13:22:17:260</td>\n",
       "      <td>50</td>\n",
       "      <td>4.3785</td>\n",
       "      <td>4.5431</td>\n",
       "      <td>595.6325</td>\n",
       "      <td>375.6149</td>\n",
       "      <td>595.6325</td>\n",
       "      <td>375.6149</td>\n",
       "      <td>False</td>\n",
       "      <td>True</td>\n",
       "      <td>False</td>\n",
       "      <td>False</td>\n",
       "      <td>True</td>\n",
       "      <td>False</td>\n",
       "    </tr>\n",
       "    <tr>\n",
       "      <th>194501</th>\n",
       "      <td>4780040.758</td>\n",
       "      <td>13:22:17:279</td>\n",
       "      <td>50</td>\n",
       "      <td>4.4050</td>\n",
       "      <td>4.5283</td>\n",
       "      <td>597.3023</td>\n",
       "      <td>375.7919</td>\n",
       "      <td>597.3023</td>\n",
       "      <td>375.7919</td>\n",
       "      <td>False</td>\n",
       "      <td>True</td>\n",
       "      <td>False</td>\n",
       "      <td>False</td>\n",
       "      <td>True</td>\n",
       "      <td>False</td>\n",
       "    </tr>\n",
       "    <tr>\n",
       "      <th>194502</th>\n",
       "      <td>4780080.503</td>\n",
       "      <td>13:22:17:319</td>\n",
       "      <td>50</td>\n",
       "      <td>4.4273</td>\n",
       "      <td>4.6036</td>\n",
       "      <td>596.9685</td>\n",
       "      <td>378.2868</td>\n",
       "      <td>596.9685</td>\n",
       "      <td>378.2868</td>\n",
       "      <td>False</td>\n",
       "      <td>True</td>\n",
       "      <td>False</td>\n",
       "      <td>False</td>\n",
       "      <td>True</td>\n",
       "      <td>False</td>\n",
       "    </tr>\n",
       "    <tr>\n",
       "      <th>194503</th>\n",
       "      <td>4780120.360</td>\n",
       "      <td>13:22:17:359</td>\n",
       "      <td>50</td>\n",
       "      <td>4.3514</td>\n",
       "      <td>4.5827</td>\n",
       "      <td>596.4349</td>\n",
       "      <td>378.5467</td>\n",
       "      <td>596.4349</td>\n",
       "      <td>378.5467</td>\n",
       "      <td>False</td>\n",
       "      <td>True</td>\n",
       "      <td>False</td>\n",
       "      <td>False</td>\n",
       "      <td>True</td>\n",
       "      <td>False</td>\n",
       "    </tr>\n",
       "    <tr>\n",
       "      <th>194504</th>\n",
       "      <td>4780140.235</td>\n",
       "      <td>13:22:17:379</td>\n",
       "      <td>50</td>\n",
       "      <td>4.3538</td>\n",
       "      <td>4.5399</td>\n",
       "      <td>599.7004</td>\n",
       "      <td>379.7574</td>\n",
       "      <td>599.7004</td>\n",
       "      <td>379.7574</td>\n",
       "      <td>False</td>\n",
       "      <td>True</td>\n",
       "      <td>False</td>\n",
       "      <td>False</td>\n",
       "      <td>True</td>\n",
       "      <td>False</td>\n",
       "    </tr>\n",
       "  </tbody>\n",
       "</table>\n",
       "</div>"
      ],
      "text/plain": [
       "        RecordingTime [ms] Time of Day [h:m:s:ms]  Participant  \\\n",
       "194500         4780020.865           13:22:17:260           50   \n",
       "194501         4780040.758           13:22:17:279           50   \n",
       "194502         4780080.503           13:22:17:319           50   \n",
       "194503         4780120.360           13:22:17:359           50   \n",
       "194504         4780140.235           13:22:17:379           50   \n",
       "\n",
       "        Pupil Diameter Right [mm]  Pupil Diameter Left [mm]  \\\n",
       "194500                     4.3785                    4.5431   \n",
       "194501                     4.4050                    4.5283   \n",
       "194502                     4.4273                    4.6036   \n",
       "194503                     4.3514                    4.5827   \n",
       "194504                     4.3538                    4.5399   \n",
       "\n",
       "       Point of Regard Right X [px] Point of Regard Right Y [px]  \\\n",
       "194500                     595.6325                     375.6149   \n",
       "194501                     597.3023                     375.7919   \n",
       "194502                     596.9685                     378.2868   \n",
       "194503                     596.4349                     378.5467   \n",
       "194504                     599.7004                     379.7574   \n",
       "\n",
       "       Point of Regard Left X [px] Point of Regard Left Y [px]  \\\n",
       "194500                    595.6325                    375.6149   \n",
       "194501                    597.3023                    375.7919   \n",
       "194502                    596.9685                    378.2868   \n",
       "194503                    596.4349                    378.5467   \n",
       "194504                    599.7004                    379.7574   \n",
       "\n",
       "        Category Left_Blink  Category Left_Fixation  Category Left_Saccade  \\\n",
       "194500                False                    True                  False   \n",
       "194501                False                    True                  False   \n",
       "194502                False                    True                  False   \n",
       "194503                False                    True                  False   \n",
       "194504                False                    True                  False   \n",
       "\n",
       "        Category Right_Blink  Category Right_Fixation  Category Right_Saccade  \n",
       "194500                 False                     True                   False  \n",
       "194501                 False                     True                   False  \n",
       "194502                 False                     True                   False  \n",
       "194503                 False                     True                   False  \n",
       "194504                 False                     True                   False  "
      ]
     },
     "execution_count": 2,
     "metadata": {},
     "output_type": "execute_result"
    }
   ],
   "source": [
    "df.head()"
   ]
  },
  {
   "cell_type": "markdown",
   "id": "71ee9610",
   "metadata": {
    "papermill": {
     "duration": 0.004832,
     "end_time": "2024-06-08T14:35:14.689748",
     "exception": false,
     "start_time": "2024-06-08T14:35:14.684916",
     "status": "completed"
    },
    "tags": []
   },
   "source": [
    "After grouping by sessions is done, we can do this.\n",
    "\n",
    "- Consider each individual session as a singular data unit.\n",
    "- From each units of data, compute all the feautures, and feed it into the classifier for proper patterns recognition\n",
    "- Goal is to find as many features, correlated to ASD vs TD as possible.\n",
    "- Hypothesis is there should be subtle patterns in eye movement speeds, fixation duration, and other similar charecteristics\n",
    "- Eye pupil diameters reveal one's interest in a certain object / event / topic. Based on this, we can calculate how long a subject is able to hold his/her interest, and possibility is, that people with ASD will have different duration they can hold interests, ideally more on objects, less on people, and maybe similar to ADHD, there is some other patterns that otherwise would've been overlooked, in the topic of interest. Possible patterns:\n",
    "    - How long can a subject hold interest\n",
    "    - How often does he/she change it\n",
    "    - Fatigue? How long till he loses interest, in a given session (is this correlated?)\n",
    "    - Saccade movement, and pupil diameter, is there any correlation / patterns\n",
    "- Eye movement is typically faster in ASD (ref. - )\n",
    "- Ability to focus on an object right after fast switching of gaze, is slower among ASD (ref. - )\n",
    "- Eye movements should be far less among TD than ASD, ASD people's gaze movement should be faster, little erratic, and possibly a bit jittery. Unable to focus.\n",
    "- "
   ]
  },
  {
   "cell_type": "markdown",
   "id": "d308b557",
   "metadata": {
    "papermill": {
     "duration": 0.005021,
     "end_time": "2024-06-08T14:35:14.699686",
     "exception": false,
     "start_time": "2024-06-08T14:35:14.694665",
     "status": "completed"
    },
    "tags": []
   },
   "source": [
    "## 1.2. **Feature Engineering**: Separate Sessions, Compute Outputs, Compute Features, Remove Unnecessary Columns"
   ]
  },
  {
   "cell_type": "code",
   "execution_count": 3,
   "id": "423f6376",
   "metadata": {
    "execution": {
     "iopub.execute_input": "2024-06-08T14:35:14.710666Z",
     "iopub.status.busy": "2024-06-08T14:35:14.710389Z",
     "iopub.status.idle": "2024-06-08T14:52:49.316549Z",
     "shell.execute_reply": "2024-06-08T14:52:49.315496Z"
    },
    "papermill": {
     "duration": 1054.614255,
     "end_time": "2024-06-08T14:52:49.318712",
     "exception": false,
     "start_time": "2024-06-08T14:35:14.704457",
     "status": "completed"
    },
    "tags": []
   },
   "outputs": [
    {
     "name": "stdout",
     "output_type": "stream",
     "text": [
      "---- Started separating sessions -----\n",
      "--- 978.3524844646454 seconds ---\n",
      "2.1 - 3: Sessions Seperated\n",
      "2.1 - 4: Feature Computation Complete\n",
      "debug: Max Shape =  12055\n",
      "2.1 - 5: Dataset padding for uniform shape - complete.\n",
      "2.1 - 6: Output Variable Computed\n"
     ]
    }
   ],
   "source": [
    "# =======================================================\n",
    "# =========== The Feature Compute Functions =============\n",
    "# =======================================================\n",
    "\n",
    "import math\n",
    "import numpy as np\n",
    "import time\n",
    "\n",
    "def getDistanceBetweenPoints(row, prevRow):\n",
    "    leftX = float(row[\"Point of Regard Left X [px]\"])\n",
    "    leftY = float(row[\"Point of Regard Left Y [px]\"])\n",
    "    rightX = float(row[\"Point of Regard Right X [px]\"])\n",
    "    rightY = float(row[\"Point of Regard Right Y [px]\"])\n",
    "\n",
    "    x1 = (leftX + rightX) / 2\n",
    "    y1 = (leftY + rightY) / 2\n",
    "\n",
    "    prevLeftX = float(prevRow[\"Point of Regard Left X [px]\"])\n",
    "    prevLeftY = float(prevRow[\"Point of Regard Left Y [px]\"])\n",
    "    prevRightX = float(prevRow[\"Point of Regard Right X [px]\"])\n",
    "    prevRightY = float(prevRow[\"Point of Regard Right Y [px]\"])\n",
    "\n",
    "    x2 = (prevLeftX + prevRightX) / 2\n",
    "    y2 = (prevLeftY + prevRightY) / 2\n",
    "\n",
    "    distance = math.sqrt((x2 - x1)**2 + (y2 - y1)**2)\n",
    "\n",
    "    return distance\n",
    "\n",
    "\n",
    "def getChangesInDistanceBetweenPoints(currDist, prevDist):\n",
    "    return abs(currDist - prevDist)\n",
    "\n",
    "def getGazeSpeed(dist, duration):\n",
    "    return dist / duration\n",
    "\n",
    "def getChangesInPupilDiameter(curr, prev):\n",
    "    return abs(curr - prev)\n",
    "\n",
    "### Additional Features:\n",
    "\n",
    "# Compound features I'm going to compute:\n",
    "# 1. Changes in pupil diameter (left, right) - easy\n",
    "# 2. Gaze Vectors?\n",
    "# What kinds of patterns am I looking for?\n",
    "# 1. Fast gaze movmenets - requires gaze speed calculation\n",
    "# 2. Gaze distance covered - requires compound / cumulitive distance computation\n",
    "# 3. Gaze speed changes - compute from the 1st feature here.\n",
    "# 4. Flactuations in gaze speed\n",
    "# Okay! Let's compute these 4 features as well!! See if it improves the accuracy!\n",
    "\n",
    "\n",
    "# ==========================================================\n",
    "# ================== Separate Sessions =====================\n",
    "# ==========================================================\n",
    "computed = False # Hardcoded false\n",
    "# computed = True # Hardcoded\n",
    "\n",
    "allSessions = []\n",
    "\n",
    "if True:\n",
    "    print(\"---- Started separating sessions -----\")\n",
    "    y = []\n",
    "    currSession = pd.DataFrame()\n",
    "\n",
    "    prevId = -1\n",
    "    cnt = 0\n",
    "\n",
    "    start_time = time.time()\n",
    "\n",
    "    for index, row in df.iterrows():\n",
    "        if row[\"Participant\"] != prevId:\n",
    "            allSessions.append(currSession.T)\n",
    "            y.append(row[\"Participant\"])\n",
    "            currSession = pd.DataFrame()\n",
    "        prevId = row[\"Participant\"]\n",
    "        currSession = pd.concat([currSession, row], axis=1)\n",
    "\n",
    "    print(\"--- %s seconds ---\" % (time.time() - start_time))\n",
    "  \n",
    "    X = allSessions[1:]\n",
    "\n",
    "print(\"2.1 - 3: Sessions Seperated\")\n",
    "\n",
    "\n",
    "# ==================================================================\n",
    "# ============== Compute the features, and add them  ===============\n",
    "# ============== Add remove the unnecessary features ===============\n",
    "# ==================================================================\n",
    "\n",
    "X = allSessions[1:]\n",
    "\n",
    "for j in range(len(X)):\n",
    "    df = X[j]    \n",
    "    # ---------------- Step 1 ---------------        \n",
    "    prevRow = None\n",
    "    prevDist = 0\n",
    "    \n",
    "    feat1_dist = []\n",
    "    feat2_dist_diffs = []\n",
    "\n",
    "    for i, row in df.iterrows():\n",
    "        if prevRow is None:\n",
    "            prevRow = row\n",
    "        dist = getDistanceBetweenPoints(row, prevRow)\n",
    "        dist_diff = getChangesInDistanceBetweenPoints(dist, prevDist)\n",
    "        # speed = \n",
    "\n",
    "        prevRow = row\n",
    "        prevDist = dist\n",
    "\n",
    "        feat1_dist.append(dist)\n",
    "        feat2_dist_diffs.append(dist_diff)\n",
    "    # ---------------- Step 2 ---------------\n",
    "    # To DataFrame\n",
    "    feat1_dist_df = pd.DataFrame(feat1_dist)\n",
    "    feat2_dist_diffs_df = pd.DataFrame(feat2_dist_diffs)\n",
    "\n",
    "    # Set column names / feature names\n",
    "    feat1_dist_df.columns = [\"Distance\"]\n",
    "    feat2_dist_diffs_df.columns = [\"Distance Difference\"]\n",
    "    \n",
    "    # ---------------- Step 3 ---------------\n",
    "    as_is = [\n",
    "        \"Participant\",\n",
    "        \"Category Left_Blink\",\n",
    "        \"Category Left_Fixation\",\n",
    "        \"Category Left_Saccade\",\n",
    "        \"Category Right_Blink\",\n",
    "        \"Category Right_Fixation\",\n",
    "        \"Category Right_Saccade\",\n",
    "        \"Pupil Diameter Right [mm]\",\n",
    "        \"Pupil Diameter Left [mm]\",\n",
    "        \n",
    "        \"Point of Regard Right X [px]\",\n",
    "        \"Point of Regard Right Y [px]\",\n",
    "        \"Point of Regard Left X [px]\", \n",
    "        \"Point of Regard Left Y [px]\", \n",
    "    ]\n",
    "\n",
    "    df_as_is = df[as_is]\n",
    "    df_as_is.reset_index(drop=True, inplace=True)\n",
    "    feat1_dist_df.reset_index(drop=True, inplace=True)\n",
    "    feat2_dist_diffs_df.reset_index(drop=True, inplace=True)\n",
    "\n",
    "\n",
    "    result = pd.concat([df_as_is, feat1_dist_df, feat2_dist_diffs_df], axis=1, join='outer')\n",
    "#     result = pd.concat([df_as_is, feat1_dist_df], axis=1, ignore_index=True)\n",
    "#     print(result.shape, \" == \", df.shape)\n",
    "    X[j] = result\n",
    "    \n",
    "print(\"2.1 - 4: Feature Computation Complete\")\n",
    "\n",
    "# =========================================================\n",
    "# =============== Pad the dataset, to make  ===============\n",
    "# =============== all of them same sized    ===============\n",
    "# =========================================================\n",
    "\n",
    "for i in range(len(X)):\n",
    "    X[i] = np.array(X[i])\n",
    "\n",
    "def pad_dataset(data, target_length):\n",
    "    num_padding_rows = target_length - data.shape[0]\n",
    "    padding = np.zeros((num_padding_rows, data.shape[1]))\n",
    "    padded_data = np.concatenate((data, padding))\n",
    "    return padded_data\n",
    "\n",
    "# debug_X = X[:]\n",
    "# print(\"debug: X at this point, stored as `debug_X`\")\n",
    "max_shape = max([data.shape[0] for data in X])\n",
    "print(\"debug: Max Shape = \", max_shape)\n",
    "padded_X = [pad_dataset(data, max_shape) for data in X]\n",
    "padded_X = np.array(padded_X)\n",
    "\n",
    "X = np.array(padded_X)\n",
    "y = np.array(y)\n",
    "\n",
    "print(\"2.1 - 5: Dataset padding for uniform shape - complete.\")\n",
    "\n",
    "# ==================================================================\n",
    "# ============== Compute the output variables ======================\n",
    "# ==================================================================\n",
    "\n",
    "y = []\n",
    "for x in X:\n",
    "    y.append(getClass(x[0][0]))\n",
    "    continue\n",
    "# len(y)\n",
    "\n",
    "print(\"2.1 - 6: Output Variable Computed\")"
   ]
  },
  {
   "cell_type": "markdown",
   "id": "c2f6318c",
   "metadata": {
    "papermill": {
     "duration": 0.00534,
     "end_time": "2024-06-08T14:52:49.330060",
     "exception": false,
     "start_time": "2024-06-08T14:52:49.324720",
     "status": "completed"
    },
    "tags": []
   },
   "source": [
    "## **NOTE**: (categories, ASD = 0, TD = 1)\n",
    "ASD = 0\n",
    "\n",
    "TD = 1"
   ]
  },
  {
   "cell_type": "markdown",
   "id": "46ed10f1",
   "metadata": {
    "papermill": {
     "duration": 0.00501,
     "end_time": "2024-06-08T14:52:49.340229",
     "exception": false,
     "start_time": "2024-06-08T14:52:49.335219",
     "status": "completed"
    },
    "tags": []
   },
   "source": [
    "# 2. Training"
   ]
  },
  {
   "cell_type": "code",
   "execution_count": 4,
   "id": "9378743f",
   "metadata": {
    "execution": {
     "iopub.execute_input": "2024-06-08T14:52:49.351917Z",
     "iopub.status.busy": "2024-06-08T14:52:49.351637Z",
     "iopub.status.idle": "2024-06-08T14:52:56.742192Z",
     "shell.execute_reply": "2024-06-08T14:52:56.741341Z"
    },
    "papermill": {
     "duration": 7.39906,
     "end_time": "2024-06-08T14:52:56.744504",
     "exception": false,
     "start_time": "2024-06-08T14:52:49.345444",
     "status": "completed"
    },
    "tags": []
   },
   "outputs": [],
   "source": [
    "import numpy as np\n",
    "from sklearn.model_selection import train_test_split\n",
    "\n",
    "# Assuming X and y are your original data arrays\n",
    "\n",
    "# Split the data into training and testing sets\n",
    "X_train, X_test, y_train, y_test = train_test_split(X, y, test_size=0.2, random_state=42)\n",
    "\n",
    "# Ensure correct data types\n",
    "X_train = np.array(X_train, dtype=np.float32)\n",
    "y_train = np.array(y_train, dtype=np.int32)\n",
    "\n",
    "# Rest of your code..."
   ]
  },
  {
   "cell_type": "code",
   "execution_count": 5,
   "id": "d456b427",
   "metadata": {
    "execution": {
     "iopub.execute_input": "2024-06-08T14:52:56.757141Z",
     "iopub.status.busy": "2024-06-08T14:52:56.756550Z",
     "iopub.status.idle": "2024-06-08T14:54:18.251086Z",
     "shell.execute_reply": "2024-06-08T14:54:18.250318Z"
    },
    "papermill": {
     "duration": 81.502779,
     "end_time": "2024-06-08T14:54:18.253111",
     "exception": false,
     "start_time": "2024-06-08T14:52:56.750332",
     "status": "completed"
    },
    "tags": []
   },
   "outputs": [
    {
     "name": "stderr",
     "output_type": "stream",
     "text": [
      "2024-06-08 14:52:58.417818: E external/local_xla/xla/stream_executor/cuda/cuda_dnn.cc:9261] Unable to register cuDNN factory: Attempting to register factory for plugin cuDNN when one has already been registered\n",
      "2024-06-08 14:52:58.417913: E external/local_xla/xla/stream_executor/cuda/cuda_fft.cc:607] Unable to register cuFFT factory: Attempting to register factory for plugin cuFFT when one has already been registered\n",
      "2024-06-08 14:52:58.542442: E external/local_xla/xla/stream_executor/cuda/cuda_blas.cc:1515] Unable to register cuBLAS factory: Attempting to register factory for plugin cuBLAS when one has already been registered\n"
     ]
    },
    {
     "data": {
      "text/html": [
       "<pre style=\"white-space:pre;overflow-x:auto;line-height:normal;font-family:Menlo,'DejaVu Sans Mono',consolas,'Courier New',monospace\"><span style=\"font-weight: bold\">Model: \"sequential\"</span>\n",
       "</pre>\n"
      ],
      "text/plain": [
       "\u001b[1mModel: \"sequential\"\u001b[0m\n"
      ]
     },
     "metadata": {},
     "output_type": "display_data"
    },
    {
     "data": {
      "text/html": [
       "<pre style=\"white-space:pre;overflow-x:auto;line-height:normal;font-family:Menlo,'DejaVu Sans Mono',consolas,'Courier New',monospace\">┏━━━━━━━━━━━━━━━━━━━━━━━━━━━━━━━━━┳━━━━━━━━━━━━━━━━━━━━━━━━┳━━━━━━━━━━━━━━━┓\n",
       "┃<span style=\"font-weight: bold\"> Layer (type)                    </span>┃<span style=\"font-weight: bold\"> Output Shape           </span>┃<span style=\"font-weight: bold\">       Param # </span>┃\n",
       "┡━━━━━━━━━━━━━━━━━━━━━━━━━━━━━━━━━╇━━━━━━━━━━━━━━━━━━━━━━━━╇━━━━━━━━━━━━━━━┩\n",
       "│ lstm (<span style=\"color: #0087ff; text-decoration-color: #0087ff\">LSTM</span>)                     │ (<span style=\"color: #00d7ff; text-decoration-color: #00d7ff\">None</span>, <span style=\"color: #00af00; text-decoration-color: #00af00\">64</span>)             │        <span style=\"color: #00af00; text-decoration-color: #00af00\">20,480</span> │\n",
       "├─────────────────────────────────┼────────────────────────┼───────────────┤\n",
       "│ dense (<span style=\"color: #0087ff; text-decoration-color: #0087ff\">Dense</span>)                   │ (<span style=\"color: #00d7ff; text-decoration-color: #00d7ff\">None</span>, <span style=\"color: #00af00; text-decoration-color: #00af00\">1</span>)              │            <span style=\"color: #00af00; text-decoration-color: #00af00\">65</span> │\n",
       "└─────────────────────────────────┴────────────────────────┴───────────────┘\n",
       "</pre>\n"
      ],
      "text/plain": [
       "┏━━━━━━━━━━━━━━━━━━━━━━━━━━━━━━━━━┳━━━━━━━━━━━━━━━━━━━━━━━━┳━━━━━━━━━━━━━━━┓\n",
       "┃\u001b[1m \u001b[0m\u001b[1mLayer (type)                   \u001b[0m\u001b[1m \u001b[0m┃\u001b[1m \u001b[0m\u001b[1mOutput Shape          \u001b[0m\u001b[1m \u001b[0m┃\u001b[1m \u001b[0m\u001b[1m      Param #\u001b[0m\u001b[1m \u001b[0m┃\n",
       "┡━━━━━━━━━━━━━━━━━━━━━━━━━━━━━━━━━╇━━━━━━━━━━━━━━━━━━━━━━━━╇━━━━━━━━━━━━━━━┩\n",
       "│ lstm (\u001b[38;5;33mLSTM\u001b[0m)                     │ (\u001b[38;5;45mNone\u001b[0m, \u001b[38;5;34m64\u001b[0m)             │        \u001b[38;5;34m20,480\u001b[0m │\n",
       "├─────────────────────────────────┼────────────────────────┼───────────────┤\n",
       "│ dense (\u001b[38;5;33mDense\u001b[0m)                   │ (\u001b[38;5;45mNone\u001b[0m, \u001b[38;5;34m1\u001b[0m)              │            \u001b[38;5;34m65\u001b[0m │\n",
       "└─────────────────────────────────┴────────────────────────┴───────────────┘\n"
      ]
     },
     "metadata": {},
     "output_type": "display_data"
    },
    {
     "data": {
      "text/html": [
       "<pre style=\"white-space:pre;overflow-x:auto;line-height:normal;font-family:Menlo,'DejaVu Sans Mono',consolas,'Courier New',monospace\"><span style=\"font-weight: bold\"> Total params: </span><span style=\"color: #00af00; text-decoration-color: #00af00\">20,545</span> (80.25 KB)\n",
       "</pre>\n"
      ],
      "text/plain": [
       "\u001b[1m Total params: \u001b[0m\u001b[38;5;34m20,545\u001b[0m (80.25 KB)\n"
      ]
     },
     "metadata": {},
     "output_type": "display_data"
    },
    {
     "data": {
      "text/html": [
       "<pre style=\"white-space:pre;overflow-x:auto;line-height:normal;font-family:Menlo,'DejaVu Sans Mono',consolas,'Courier New',monospace\"><span style=\"font-weight: bold\"> Trainable params: </span><span style=\"color: #00af00; text-decoration-color: #00af00\">20,545</span> (80.25 KB)\n",
       "</pre>\n"
      ],
      "text/plain": [
       "\u001b[1m Trainable params: \u001b[0m\u001b[38;5;34m20,545\u001b[0m (80.25 KB)\n"
      ]
     },
     "metadata": {},
     "output_type": "display_data"
    },
    {
     "data": {
      "text/html": [
       "<pre style=\"white-space:pre;overflow-x:auto;line-height:normal;font-family:Menlo,'DejaVu Sans Mono',consolas,'Courier New',monospace\"><span style=\"font-weight: bold\"> Non-trainable params: </span><span style=\"color: #00af00; text-decoration-color: #00af00\">0</span> (0.00 B)\n",
       "</pre>\n"
      ],
      "text/plain": [
       "\u001b[1m Non-trainable params: \u001b[0m\u001b[38;5;34m0\u001b[0m (0.00 B)\n"
      ]
     },
     "metadata": {},
     "output_type": "display_data"
    },
    {
     "name": "stdout",
     "output_type": "stream",
     "text": [
      "Epoch 1/10\n",
      "\u001b[1m15/15\u001b[0m \u001b[32m━━━━━━━━━━━━━━━━━━━━\u001b[0m\u001b[37m\u001b[0m \u001b[1m10s\u001b[0m 433ms/step - accuracy: 0.6959 - loss: 0.6825\n",
      "Epoch 2/10\n",
      "\u001b[1m15/15\u001b[0m \u001b[32m━━━━━━━━━━━━━━━━━━━━\u001b[0m\u001b[37m\u001b[0m \u001b[1m7s\u001b[0m 432ms/step - accuracy: 0.6620 - loss: 0.6515\n",
      "Epoch 3/10\n",
      "\u001b[1m15/15\u001b[0m \u001b[32m━━━━━━━━━━━━━━━━━━━━\u001b[0m\u001b[37m\u001b[0m \u001b[1m6s\u001b[0m 428ms/step - accuracy: 0.6880 - loss: 0.6210\n",
      "Epoch 4/10\n",
      "\u001b[1m15/15\u001b[0m \u001b[32m━━━━━━━━━━━━━━━━━━━━\u001b[0m\u001b[37m\u001b[0m \u001b[1m6s\u001b[0m 428ms/step - accuracy: 0.6680 - loss: 0.6359\n",
      "Epoch 5/10\n",
      "\u001b[1m15/15\u001b[0m \u001b[32m━━━━━━━━━━━━━━━━━━━━\u001b[0m\u001b[37m\u001b[0m \u001b[1m7s\u001b[0m 429ms/step - accuracy: 0.6869 - loss: 0.6223\n",
      "Epoch 6/10\n",
      "\u001b[1m15/15\u001b[0m \u001b[32m━━━━━━━━━━━━━━━━━━━━\u001b[0m\u001b[37m\u001b[0m \u001b[1m6s\u001b[0m 429ms/step - accuracy: 0.6560 - loss: 0.6451\n",
      "Epoch 7/10\n",
      "\u001b[1m15/15\u001b[0m \u001b[32m━━━━━━━━━━━━━━━━━━━━\u001b[0m\u001b[37m\u001b[0m \u001b[1m7s\u001b[0m 431ms/step - accuracy: 0.6796 - loss: 0.6308\n",
      "Epoch 8/10\n",
      "\u001b[1m15/15\u001b[0m \u001b[32m━━━━━━━━━━━━━━━━━━━━\u001b[0m\u001b[37m\u001b[0m \u001b[1m6s\u001b[0m 428ms/step - accuracy: 0.6703 - loss: 0.6348\n",
      "Epoch 9/10\n",
      "\u001b[1m15/15\u001b[0m \u001b[32m━━━━━━━━━━━━━━━━━━━━\u001b[0m\u001b[37m\u001b[0m \u001b[1m6s\u001b[0m 428ms/step - accuracy: 0.6941 - loss: 0.6154\n",
      "Epoch 10/10\n",
      "\u001b[1m15/15\u001b[0m \u001b[32m━━━━━━━━━━━━━━━━━━━━\u001b[0m\u001b[37m\u001b[0m \u001b[1m6s\u001b[0m 428ms/step - accuracy: 0.6794 - loss: 0.6290\n"
     ]
    }
   ],
   "source": [
    "import numpy as np\n",
    "import tensorflow as tf\n",
    "from tensorflow.keras.models import Sequential\n",
    "from tensorflow.keras.layers import LSTM, Dense\n",
    "\n",
    "# Define the input shape\n",
    "input_shape = (12055, 15)\n",
    "\n",
    "# Create the model\n",
    "model = Sequential()\n",
    "\n",
    "# Add an LSTM layer\n",
    "model.add(LSTM(64, input_shape=input_shape))\n",
    "\n",
    "# Add a dense output layer with sigmoid activation for binary classification\n",
    "model.add(Dense(1, activation='sigmoid'))\n",
    "\n",
    "# Compile the model\n",
    "model.compile(optimizer='adam', loss='binary_crossentropy', metrics=['accuracy'])\n",
    "\n",
    "# Print the model summary\n",
    "model.summary()\n",
    "\n",
    "# Fit the model\n",
    "model.fit(X_train, y_train, epochs=10, batch_size=32)\n",
    "\n",
    "# Save the model\n",
    "model.save('lstm_model.h5')\n"
   ]
  },
  {
   "cell_type": "code",
   "execution_count": 6,
   "id": "eabff80e",
   "metadata": {
    "execution": {
     "iopub.execute_input": "2024-06-08T14:54:18.295391Z",
     "iopub.status.busy": "2024-06-08T14:54:18.294772Z",
     "iopub.status.idle": "2024-06-08T14:54:20.739209Z",
     "shell.execute_reply": "2024-06-08T14:54:20.738103Z"
    },
    "papermill": {
     "duration": 2.467663,
     "end_time": "2024-06-08T14:54:20.741273",
     "exception": false,
     "start_time": "2024-06-08T14:54:18.273610",
     "status": "completed"
    },
    "tags": []
   },
   "outputs": [
    {
     "name": "stdout",
     "output_type": "stream",
     "text": [
      "\u001b[1m4/4\u001b[0m \u001b[32m━━━━━━━━━━━━━━━━━━━━\u001b[0m\u001b[37m\u001b[0m \u001b[1m1s\u001b[0m 239ms/step\n",
      "Classification Report:\n",
      "              precision    recall  f1-score   support\n",
      "\n",
      "           0       0.68      1.00      0.81        78\n",
      "           1       0.00      0.00      0.00        36\n",
      "\n",
      "    accuracy                           0.68       114\n",
      "   macro avg       0.34      0.50      0.41       114\n",
      "weighted avg       0.47      0.68      0.56       114\n",
      "\n",
      "Confusion Matrix:\n",
      "[[78  0]\n",
      " [36  0]]\n"
     ]
    }
   ],
   "source": [
    "from sklearn.metrics import classification_report, confusion_matrix\n",
    "import numpy as np\n",
    "\n",
    "# Assuming you have your test data X_test and y_test\n",
    "X_test = np.array(X_test, dtype=np.float32)\n",
    "\n",
    "# Make predictions on the test data\n",
    "y_pred = model.predict(X_test)\n",
    "\n",
    "# Convert predictions to binary class labels\n",
    "y_pred_classes = np.round(y_pred).astype(int)\n",
    "\n",
    "# Print the classification report\n",
    "print(\"Classification Report:\")\n",
    "print(classification_report(y_test, y_pred_classes))\n",
    "\n",
    "# Generate and print the confusion matrix\n",
    "print(\"Confusion Matrix:\")\n",
    "print(confusion_matrix(y_test, y_pred_classes))"
   ]
  },
  {
   "cell_type": "code",
   "execution_count": 7,
   "id": "0e97788f",
   "metadata": {
    "execution": {
     "iopub.execute_input": "2024-06-08T14:54:20.783588Z",
     "iopub.status.busy": "2024-06-08T14:54:20.783273Z",
     "iopub.status.idle": "2024-06-08T14:55:39.923945Z",
     "shell.execute_reply": "2024-06-08T14:55:39.923097Z"
    },
    "papermill": {
     "duration": 79.163826,
     "end_time": "2024-06-08T14:55:39.926128",
     "exception": false,
     "start_time": "2024-06-08T14:54:20.762302",
     "status": "completed"
    },
    "tags": []
   },
   "outputs": [
    {
     "data": {
      "text/html": [
       "<pre style=\"white-space:pre;overflow-x:auto;line-height:normal;font-family:Menlo,'DejaVu Sans Mono',consolas,'Courier New',monospace\"><span style=\"font-weight: bold\">Model: \"sequential_1\"</span>\n",
       "</pre>\n"
      ],
      "text/plain": [
       "\u001b[1mModel: \"sequential_1\"\u001b[0m\n"
      ]
     },
     "metadata": {},
     "output_type": "display_data"
    },
    {
     "data": {
      "text/html": [
       "<pre style=\"white-space:pre;overflow-x:auto;line-height:normal;font-family:Menlo,'DejaVu Sans Mono',consolas,'Courier New',monospace\">┏━━━━━━━━━━━━━━━━━━━━━━━━━━━━━━━━━┳━━━━━━━━━━━━━━━━━━━━━━━━┳━━━━━━━━━━━━━━━┓\n",
       "┃<span style=\"font-weight: bold\"> Layer (type)                    </span>┃<span style=\"font-weight: bold\"> Output Shape           </span>┃<span style=\"font-weight: bold\">       Param # </span>┃\n",
       "┡━━━━━━━━━━━━━━━━━━━━━━━━━━━━━━━━━╇━━━━━━━━━━━━━━━━━━━━━━━━╇━━━━━━━━━━━━━━━┩\n",
       "│ lstm_1 (<span style=\"color: #0087ff; text-decoration-color: #0087ff\">LSTM</span>)                   │ (<span style=\"color: #00d7ff; text-decoration-color: #00d7ff\">None</span>, <span style=\"color: #00af00; text-decoration-color: #00af00\">128</span>)            │        <span style=\"color: #00af00; text-decoration-color: #00af00\">73,728</span> │\n",
       "├─────────────────────────────────┼────────────────────────┼───────────────┤\n",
       "│ dense_1 (<span style=\"color: #0087ff; text-decoration-color: #0087ff\">Dense</span>)                 │ (<span style=\"color: #00d7ff; text-decoration-color: #00d7ff\">None</span>, <span style=\"color: #00af00; text-decoration-color: #00af00\">1</span>)              │           <span style=\"color: #00af00; text-decoration-color: #00af00\">129</span> │\n",
       "└─────────────────────────────────┴────────────────────────┴───────────────┘\n",
       "</pre>\n"
      ],
      "text/plain": [
       "┏━━━━━━━━━━━━━━━━━━━━━━━━━━━━━━━━━┳━━━━━━━━━━━━━━━━━━━━━━━━┳━━━━━━━━━━━━━━━┓\n",
       "┃\u001b[1m \u001b[0m\u001b[1mLayer (type)                   \u001b[0m\u001b[1m \u001b[0m┃\u001b[1m \u001b[0m\u001b[1mOutput Shape          \u001b[0m\u001b[1m \u001b[0m┃\u001b[1m \u001b[0m\u001b[1m      Param #\u001b[0m\u001b[1m \u001b[0m┃\n",
       "┡━━━━━━━━━━━━━━━━━━━━━━━━━━━━━━━━━╇━━━━━━━━━━━━━━━━━━━━━━━━╇━━━━━━━━━━━━━━━┩\n",
       "│ lstm_1 (\u001b[38;5;33mLSTM\u001b[0m)                   │ (\u001b[38;5;45mNone\u001b[0m, \u001b[38;5;34m128\u001b[0m)            │        \u001b[38;5;34m73,728\u001b[0m │\n",
       "├─────────────────────────────────┼────────────────────────┼───────────────┤\n",
       "│ dense_1 (\u001b[38;5;33mDense\u001b[0m)                 │ (\u001b[38;5;45mNone\u001b[0m, \u001b[38;5;34m1\u001b[0m)              │           \u001b[38;5;34m129\u001b[0m │\n",
       "└─────────────────────────────────┴────────────────────────┴───────────────┘\n"
      ]
     },
     "metadata": {},
     "output_type": "display_data"
    },
    {
     "data": {
      "text/html": [
       "<pre style=\"white-space:pre;overflow-x:auto;line-height:normal;font-family:Menlo,'DejaVu Sans Mono',consolas,'Courier New',monospace\"><span style=\"font-weight: bold\"> Total params: </span><span style=\"color: #00af00; text-decoration-color: #00af00\">73,857</span> (288.50 KB)\n",
       "</pre>\n"
      ],
      "text/plain": [
       "\u001b[1m Total params: \u001b[0m\u001b[38;5;34m73,857\u001b[0m (288.50 KB)\n"
      ]
     },
     "metadata": {},
     "output_type": "display_data"
    },
    {
     "data": {
      "text/html": [
       "<pre style=\"white-space:pre;overflow-x:auto;line-height:normal;font-family:Menlo,'DejaVu Sans Mono',consolas,'Courier New',monospace\"><span style=\"font-weight: bold\"> Trainable params: </span><span style=\"color: #00af00; text-decoration-color: #00af00\">73,857</span> (288.50 KB)\n",
       "</pre>\n"
      ],
      "text/plain": [
       "\u001b[1m Trainable params: \u001b[0m\u001b[38;5;34m73,857\u001b[0m (288.50 KB)\n"
      ]
     },
     "metadata": {},
     "output_type": "display_data"
    },
    {
     "data": {
      "text/html": [
       "<pre style=\"white-space:pre;overflow-x:auto;line-height:normal;font-family:Menlo,'DejaVu Sans Mono',consolas,'Courier New',monospace\"><span style=\"font-weight: bold\"> Non-trainable params: </span><span style=\"color: #00af00; text-decoration-color: #00af00\">0</span> (0.00 B)\n",
       "</pre>\n"
      ],
      "text/plain": [
       "\u001b[1m Non-trainable params: \u001b[0m\u001b[38;5;34m0\u001b[0m (0.00 B)\n"
      ]
     },
     "metadata": {},
     "output_type": "display_data"
    },
    {
     "name": "stdout",
     "output_type": "stream",
     "text": [
      "Epoch 1/10\n",
      "\u001b[1m15/15\u001b[0m \u001b[32m━━━━━━━━━━━━━━━━━━━━\u001b[0m\u001b[37m\u001b[0m \u001b[1m9s\u001b[0m 495ms/step - accuracy: 0.6833 - loss: 0.6853\n",
      "Epoch 2/10\n",
      "\u001b[1m15/15\u001b[0m \u001b[32m━━━━━━━━━━━━━━━━━━━━\u001b[0m\u001b[37m\u001b[0m \u001b[1m7s\u001b[0m 495ms/step - accuracy: 0.7020 - loss: 0.6509\n",
      "Epoch 3/10\n",
      "\u001b[1m15/15\u001b[0m \u001b[32m━━━━━━━━━━━━━━━━━━━━\u001b[0m\u001b[37m\u001b[0m \u001b[1m7s\u001b[0m 495ms/step - accuracy: 0.6357 - loss: 0.6689\n",
      "Epoch 4/10\n",
      "\u001b[1m15/15\u001b[0m \u001b[32m━━━━━━━━━━━━━━━━━━━━\u001b[0m\u001b[37m\u001b[0m \u001b[1m7s\u001b[0m 495ms/step - accuracy: 0.6537 - loss: 0.6542\n",
      "Epoch 5/10\n",
      "\u001b[1m15/15\u001b[0m \u001b[32m━━━━━━━━━━━━━━━━━━━━\u001b[0m\u001b[37m\u001b[0m \u001b[1m7s\u001b[0m 497ms/step - accuracy: 0.6833 - loss: 0.6293\n",
      "Epoch 6/10\n",
      "\u001b[1m15/15\u001b[0m \u001b[32m━━━━━━━━━━━━━━━━━━━━\u001b[0m\u001b[37m\u001b[0m \u001b[1m10s\u001b[0m 495ms/step - accuracy: 0.6719 - loss: 0.6326\n",
      "Epoch 7/10\n",
      "\u001b[1m15/15\u001b[0m \u001b[32m━━━━━━━━━━━━━━━━━━━━\u001b[0m\u001b[37m\u001b[0m \u001b[1m7s\u001b[0m 495ms/step - accuracy: 0.6956 - loss: 0.6157\n",
      "Epoch 8/10\n",
      "\u001b[1m15/15\u001b[0m \u001b[32m━━━━━━━━━━━━━━━━━━━━\u001b[0m\u001b[37m\u001b[0m \u001b[1m7s\u001b[0m 495ms/step - accuracy: 0.7121 - loss: 0.6070\n",
      "Epoch 9/10\n",
      "\u001b[1m15/15\u001b[0m \u001b[32m━━━━━━━━━━━━━━━━━━━━\u001b[0m\u001b[37m\u001b[0m \u001b[1m7s\u001b[0m 496ms/step - accuracy: 0.6570 - loss: 0.6441\n",
      "Epoch 10/10\n",
      "\u001b[1m15/15\u001b[0m \u001b[32m━━━━━━━━━━━━━━━━━━━━\u001b[0m\u001b[37m\u001b[0m \u001b[1m7s\u001b[0m 495ms/step - accuracy: 0.6791 - loss: 0.6279\n"
     ]
    }
   ],
   "source": [
    "import numpy as np\n",
    "import tensorflow as tf\n",
    "from tensorflow.keras.models import Sequential\n",
    "from tensorflow.keras.layers import LSTM, Dense, Embedding, Dropout\n",
    "\n",
    "# Define the input shape\n",
    "input_shape = (12055, 15)\n",
    "\n",
    "model = Sequential()\n",
    "model.add(LSTM(128, input_shape=input_shape))\n",
    "model.add(Dense(1, activation='sigmoid'))\n",
    "\n",
    "model.compile(optimizer='adam', loss='binary_crossentropy', metrics=['accuracy'])\n",
    "model.summary()\n",
    "model.fit(X_train, y_train, epochs=10, batch_size=32)\n",
    "model.save('lstm_model.h5')"
   ]
  },
  {
   "cell_type": "code",
   "execution_count": 8,
   "id": "b5f1c6c9",
   "metadata": {
    "execution": {
     "iopub.execute_input": "2024-06-08T14:55:39.996291Z",
     "iopub.status.busy": "2024-06-08T14:55:39.995676Z",
     "iopub.status.idle": "2024-06-08T14:59:21.151178Z",
     "shell.execute_reply": "2024-06-08T14:59:21.150181Z"
    },
    "papermill": {
     "duration": 221.193021,
     "end_time": "2024-06-08T14:59:21.153317",
     "exception": false,
     "start_time": "2024-06-08T14:55:39.960296",
     "status": "completed"
    },
    "tags": []
   },
   "outputs": [
    {
     "data": {
      "text/html": [
       "<pre style=\"white-space:pre;overflow-x:auto;line-height:normal;font-family:Menlo,'DejaVu Sans Mono',consolas,'Courier New',monospace\"><span style=\"font-weight: bold\">Model: \"sequential_2\"</span>\n",
       "</pre>\n"
      ],
      "text/plain": [
       "\u001b[1mModel: \"sequential_2\"\u001b[0m\n"
      ]
     },
     "metadata": {},
     "output_type": "display_data"
    },
    {
     "data": {
      "text/html": [
       "<pre style=\"white-space:pre;overflow-x:auto;line-height:normal;font-family:Menlo,'DejaVu Sans Mono',consolas,'Courier New',monospace\">┏━━━━━━━━━━━━━━━━━━━━━━━━━━━━━━━━━┳━━━━━━━━━━━━━━━━━━━━━━━━┳━━━━━━━━━━━━━━━┓\n",
       "┃<span style=\"font-weight: bold\"> Layer (type)                    </span>┃<span style=\"font-weight: bold\"> Output Shape           </span>┃<span style=\"font-weight: bold\">       Param # </span>┃\n",
       "┡━━━━━━━━━━━━━━━━━━━━━━━━━━━━━━━━━╇━━━━━━━━━━━━━━━━━━━━━━━━╇━━━━━━━━━━━━━━━┩\n",
       "│ lstm_2 (<span style=\"color: #0087ff; text-decoration-color: #0087ff\">LSTM</span>)                   │ (<span style=\"color: #00d7ff; text-decoration-color: #00d7ff\">None</span>, <span style=\"color: #00af00; text-decoration-color: #00af00\">12055</span>, <span style=\"color: #00af00; text-decoration-color: #00af00\">128</span>)     │        <span style=\"color: #00af00; text-decoration-color: #00af00\">73,728</span> │\n",
       "├─────────────────────────────────┼────────────────────────┼───────────────┤\n",
       "│ lstm_3 (<span style=\"color: #0087ff; text-decoration-color: #0087ff\">LSTM</span>)                   │ (<span style=\"color: #00d7ff; text-decoration-color: #00d7ff\">None</span>, <span style=\"color: #00af00; text-decoration-color: #00af00\">12055</span>, <span style=\"color: #00af00; text-decoration-color: #00af00\">128</span>)     │       <span style=\"color: #00af00; text-decoration-color: #00af00\">131,584</span> │\n",
       "├─────────────────────────────────┼────────────────────────┼───────────────┤\n",
       "│ lstm_4 (<span style=\"color: #0087ff; text-decoration-color: #0087ff\">LSTM</span>)                   │ (<span style=\"color: #00d7ff; text-decoration-color: #00d7ff\">None</span>, <span style=\"color: #00af00; text-decoration-color: #00af00\">128</span>)            │       <span style=\"color: #00af00; text-decoration-color: #00af00\">131,584</span> │\n",
       "├─────────────────────────────────┼────────────────────────┼───────────────┤\n",
       "│ dense_2 (<span style=\"color: #0087ff; text-decoration-color: #0087ff\">Dense</span>)                 │ (<span style=\"color: #00d7ff; text-decoration-color: #00d7ff\">None</span>, <span style=\"color: #00af00; text-decoration-color: #00af00\">1</span>)              │           <span style=\"color: #00af00; text-decoration-color: #00af00\">129</span> │\n",
       "└─────────────────────────────────┴────────────────────────┴───────────────┘\n",
       "</pre>\n"
      ],
      "text/plain": [
       "┏━━━━━━━━━━━━━━━━━━━━━━━━━━━━━━━━━┳━━━━━━━━━━━━━━━━━━━━━━━━┳━━━━━━━━━━━━━━━┓\n",
       "┃\u001b[1m \u001b[0m\u001b[1mLayer (type)                   \u001b[0m\u001b[1m \u001b[0m┃\u001b[1m \u001b[0m\u001b[1mOutput Shape          \u001b[0m\u001b[1m \u001b[0m┃\u001b[1m \u001b[0m\u001b[1m      Param #\u001b[0m\u001b[1m \u001b[0m┃\n",
       "┡━━━━━━━━━━━━━━━━━━━━━━━━━━━━━━━━━╇━━━━━━━━━━━━━━━━━━━━━━━━╇━━━━━━━━━━━━━━━┩\n",
       "│ lstm_2 (\u001b[38;5;33mLSTM\u001b[0m)                   │ (\u001b[38;5;45mNone\u001b[0m, \u001b[38;5;34m12055\u001b[0m, \u001b[38;5;34m128\u001b[0m)     │        \u001b[38;5;34m73,728\u001b[0m │\n",
       "├─────────────────────────────────┼────────────────────────┼───────────────┤\n",
       "│ lstm_3 (\u001b[38;5;33mLSTM\u001b[0m)                   │ (\u001b[38;5;45mNone\u001b[0m, \u001b[38;5;34m12055\u001b[0m, \u001b[38;5;34m128\u001b[0m)     │       \u001b[38;5;34m131,584\u001b[0m │\n",
       "├─────────────────────────────────┼────────────────────────┼───────────────┤\n",
       "│ lstm_4 (\u001b[38;5;33mLSTM\u001b[0m)                   │ (\u001b[38;5;45mNone\u001b[0m, \u001b[38;5;34m128\u001b[0m)            │       \u001b[38;5;34m131,584\u001b[0m │\n",
       "├─────────────────────────────────┼────────────────────────┼───────────────┤\n",
       "│ dense_2 (\u001b[38;5;33mDense\u001b[0m)                 │ (\u001b[38;5;45mNone\u001b[0m, \u001b[38;5;34m1\u001b[0m)              │           \u001b[38;5;34m129\u001b[0m │\n",
       "└─────────────────────────────────┴────────────────────────┴───────────────┘\n"
      ]
     },
     "metadata": {},
     "output_type": "display_data"
    },
    {
     "data": {
      "text/html": [
       "<pre style=\"white-space:pre;overflow-x:auto;line-height:normal;font-family:Menlo,'DejaVu Sans Mono',consolas,'Courier New',monospace\"><span style=\"font-weight: bold\"> Total params: </span><span style=\"color: #00af00; text-decoration-color: #00af00\">337,025</span> (1.29 MB)\n",
       "</pre>\n"
      ],
      "text/plain": [
       "\u001b[1m Total params: \u001b[0m\u001b[38;5;34m337,025\u001b[0m (1.29 MB)\n"
      ]
     },
     "metadata": {},
     "output_type": "display_data"
    },
    {
     "data": {
      "text/html": [
       "<pre style=\"white-space:pre;overflow-x:auto;line-height:normal;font-family:Menlo,'DejaVu Sans Mono',consolas,'Courier New',monospace\"><span style=\"font-weight: bold\"> Trainable params: </span><span style=\"color: #00af00; text-decoration-color: #00af00\">337,025</span> (1.29 MB)\n",
       "</pre>\n"
      ],
      "text/plain": [
       "\u001b[1m Trainable params: \u001b[0m\u001b[38;5;34m337,025\u001b[0m (1.29 MB)\n"
      ]
     },
     "metadata": {},
     "output_type": "display_data"
    },
    {
     "data": {
      "text/html": [
       "<pre style=\"white-space:pre;overflow-x:auto;line-height:normal;font-family:Menlo,'DejaVu Sans Mono',consolas,'Courier New',monospace\"><span style=\"font-weight: bold\"> Non-trainable params: </span><span style=\"color: #00af00; text-decoration-color: #00af00\">0</span> (0.00 B)\n",
       "</pre>\n"
      ],
      "text/plain": [
       "\u001b[1m Non-trainable params: \u001b[0m\u001b[38;5;34m0\u001b[0m (0.00 B)\n"
      ]
     },
     "metadata": {},
     "output_type": "display_data"
    },
    {
     "name": "stdout",
     "output_type": "stream",
     "text": [
      "Epoch 1/10\n",
      "\u001b[1m15/15\u001b[0m \u001b[32m━━━━━━━━━━━━━━━━━━━━\u001b[0m\u001b[37m\u001b[0m \u001b[1m24s\u001b[0m 1s/step - accuracy: 0.5641 - loss: 0.6750\n",
      "Epoch 2/10\n",
      "\u001b[1m15/15\u001b[0m \u001b[32m━━━━━━━━━━━━━━━━━━━━\u001b[0m\u001b[37m\u001b[0m \u001b[1m22s\u001b[0m 1s/step - accuracy: 0.6665 - loss: 0.6606\n",
      "Epoch 3/10\n",
      "\u001b[1m15/15\u001b[0m \u001b[32m━━━━━━━━━━━━━━━━━━━━\u001b[0m\u001b[37m\u001b[0m \u001b[1m22s\u001b[0m 1s/step - accuracy: 0.6362 - loss: 0.6513\n",
      "Epoch 4/10\n",
      "\u001b[1m15/15\u001b[0m \u001b[32m━━━━━━━━━━━━━━━━━━━━\u001b[0m\u001b[37m\u001b[0m \u001b[1m22s\u001b[0m 1s/step - accuracy: 0.6954 - loss: 0.6129\n",
      "Epoch 5/10\n",
      "\u001b[1m15/15\u001b[0m \u001b[32m━━━━━━━━━━━━━━━━━━━━\u001b[0m\u001b[37m\u001b[0m \u001b[1m22s\u001b[0m 1s/step - accuracy: 0.7126 - loss: 0.6110\n",
      "Epoch 6/10\n",
      "\u001b[1m15/15\u001b[0m \u001b[32m━━━━━━━━━━━━━━━━━━━━\u001b[0m\u001b[37m\u001b[0m \u001b[1m22s\u001b[0m 1s/step - accuracy: 0.7252 - loss: 0.5965\n",
      "Epoch 7/10\n",
      "\u001b[1m15/15\u001b[0m \u001b[32m━━━━━━━━━━━━━━━━━━━━\u001b[0m\u001b[37m\u001b[0m \u001b[1m22s\u001b[0m 1s/step - accuracy: 0.6855 - loss: 0.6276\n",
      "Epoch 8/10\n",
      "\u001b[1m15/15\u001b[0m \u001b[32m━━━━━━━━━━━━━━━━━━━━\u001b[0m\u001b[37m\u001b[0m \u001b[1m22s\u001b[0m 1s/step - accuracy: 0.6623 - loss: 0.6396\n",
      "Epoch 9/10\n",
      "\u001b[1m15/15\u001b[0m \u001b[32m━━━━━━━━━━━━━━━━━━━━\u001b[0m\u001b[37m\u001b[0m \u001b[1m22s\u001b[0m 1s/step - accuracy: 0.6920 - loss: 0.6187\n",
      "Epoch 10/10\n",
      "\u001b[1m15/15\u001b[0m \u001b[32m━━━━━━━━━━━━━━━━━━━━\u001b[0m\u001b[37m\u001b[0m \u001b[1m22s\u001b[0m 1s/step - accuracy: 0.6711 - loss: 0.6345\n"
     ]
    }
   ],
   "source": [
    "import numpy as np\n",
    "import tensorflow as tf\n",
    "from tensorflow.keras.models import Sequential\n",
    "from tensorflow.keras.layers import LSTM, Dense, Embedding, Dropout\n",
    "\n",
    "# Define the input shape\n",
    "input_shape = (12055, 15)\n",
    "\n",
    "model = Sequential()\n",
    "model.add(LSTM(128, input_shape=input_shape, return_sequences=True))\n",
    "model.add(LSTM(128, return_sequences=True))\n",
    "model.add(LSTM(128))\n",
    "model.add(Dense(1, activation='sigmoid'))\n",
    "\n",
    "model.compile(optimizer='adam', loss='binary_crossentropy', metrics=['accuracy'])\n",
    "model.summary()\n",
    "model.fit(X_train, y_train, epochs=10, batch_size=32)\n",
    "model.save('lstm_model.h5')"
   ]
  },
  {
   "cell_type": "code",
   "execution_count": 9,
   "id": "c0c10464",
   "metadata": {
    "execution": {
     "iopub.execute_input": "2024-06-08T14:59:21.255049Z",
     "iopub.status.busy": "2024-06-08T14:59:21.254698Z",
     "iopub.status.idle": "2024-06-08T15:03:24.563547Z",
     "shell.execute_reply": "2024-06-08T15:03:24.562616Z"
    },
    "papermill": {
     "duration": 243.361917,
     "end_time": "2024-06-08T15:03:24.565791",
     "exception": false,
     "start_time": "2024-06-08T14:59:21.203874",
     "status": "completed"
    },
    "tags": []
   },
   "outputs": [
    {
     "data": {
      "text/html": [
       "<pre style=\"white-space:pre;overflow-x:auto;line-height:normal;font-family:Menlo,'DejaVu Sans Mono',consolas,'Courier New',monospace\"><span style=\"font-weight: bold\">Model: \"sequential_3\"</span>\n",
       "</pre>\n"
      ],
      "text/plain": [
       "\u001b[1mModel: \"sequential_3\"\u001b[0m\n"
      ]
     },
     "metadata": {},
     "output_type": "display_data"
    },
    {
     "data": {
      "text/html": [
       "<pre style=\"white-space:pre;overflow-x:auto;line-height:normal;font-family:Menlo,'DejaVu Sans Mono',consolas,'Courier New',monospace\">┏━━━━━━━━━━━━━━━━━━━━━━━━━━━━━━━━━┳━━━━━━━━━━━━━━━━━━━━━━━━┳━━━━━━━━━━━━━━━┓\n",
       "┃<span style=\"font-weight: bold\"> Layer (type)                    </span>┃<span style=\"font-weight: bold\"> Output Shape           </span>┃<span style=\"font-weight: bold\">       Param # </span>┃\n",
       "┡━━━━━━━━━━━━━━━━━━━━━━━━━━━━━━━━━╇━━━━━━━━━━━━━━━━━━━━━━━━╇━━━━━━━━━━━━━━━┩\n",
       "│ lstm_5 (<span style=\"color: #0087ff; text-decoration-color: #0087ff\">LSTM</span>)                   │ (<span style=\"color: #00d7ff; text-decoration-color: #00d7ff\">None</span>, <span style=\"color: #00af00; text-decoration-color: #00af00\">12055</span>, <span style=\"color: #00af00; text-decoration-color: #00af00\">128</span>)     │        <span style=\"color: #00af00; text-decoration-color: #00af00\">73,728</span> │\n",
       "├─────────────────────────────────┼────────────────────────┼───────────────┤\n",
       "│ dropout (<span style=\"color: #0087ff; text-decoration-color: #0087ff\">Dropout</span>)               │ (<span style=\"color: #00d7ff; text-decoration-color: #00d7ff\">None</span>, <span style=\"color: #00af00; text-decoration-color: #00af00\">12055</span>, <span style=\"color: #00af00; text-decoration-color: #00af00\">128</span>)     │             <span style=\"color: #00af00; text-decoration-color: #00af00\">0</span> │\n",
       "├─────────────────────────────────┼────────────────────────┼───────────────┤\n",
       "│ lstm_6 (<span style=\"color: #0087ff; text-decoration-color: #0087ff\">LSTM</span>)                   │ (<span style=\"color: #00d7ff; text-decoration-color: #00d7ff\">None</span>, <span style=\"color: #00af00; text-decoration-color: #00af00\">12055</span>, <span style=\"color: #00af00; text-decoration-color: #00af00\">128</span>)     │       <span style=\"color: #00af00; text-decoration-color: #00af00\">131,584</span> │\n",
       "├─────────────────────────────────┼────────────────────────┼───────────────┤\n",
       "│ dropout_1 (<span style=\"color: #0087ff; text-decoration-color: #0087ff\">Dropout</span>)             │ (<span style=\"color: #00d7ff; text-decoration-color: #00d7ff\">None</span>, <span style=\"color: #00af00; text-decoration-color: #00af00\">12055</span>, <span style=\"color: #00af00; text-decoration-color: #00af00\">128</span>)     │             <span style=\"color: #00af00; text-decoration-color: #00af00\">0</span> │\n",
       "├─────────────────────────────────┼────────────────────────┼───────────────┤\n",
       "│ lstm_7 (<span style=\"color: #0087ff; text-decoration-color: #0087ff\">LSTM</span>)                   │ (<span style=\"color: #00d7ff; text-decoration-color: #00d7ff\">None</span>, <span style=\"color: #00af00; text-decoration-color: #00af00\">128</span>)            │       <span style=\"color: #00af00; text-decoration-color: #00af00\">131,584</span> │\n",
       "├─────────────────────────────────┼────────────────────────┼───────────────┤\n",
       "│ dropout_2 (<span style=\"color: #0087ff; text-decoration-color: #0087ff\">Dropout</span>)             │ (<span style=\"color: #00d7ff; text-decoration-color: #00d7ff\">None</span>, <span style=\"color: #00af00; text-decoration-color: #00af00\">128</span>)            │             <span style=\"color: #00af00; text-decoration-color: #00af00\">0</span> │\n",
       "├─────────────────────────────────┼────────────────────────┼───────────────┤\n",
       "│ dense_3 (<span style=\"color: #0087ff; text-decoration-color: #0087ff\">Dense</span>)                 │ (<span style=\"color: #00d7ff; text-decoration-color: #00d7ff\">None</span>, <span style=\"color: #00af00; text-decoration-color: #00af00\">64</span>)             │         <span style=\"color: #00af00; text-decoration-color: #00af00\">8,256</span> │\n",
       "├─────────────────────────────────┼────────────────────────┼───────────────┤\n",
       "│ dropout_3 (<span style=\"color: #0087ff; text-decoration-color: #0087ff\">Dropout</span>)             │ (<span style=\"color: #00d7ff; text-decoration-color: #00d7ff\">None</span>, <span style=\"color: #00af00; text-decoration-color: #00af00\">64</span>)             │             <span style=\"color: #00af00; text-decoration-color: #00af00\">0</span> │\n",
       "├─────────────────────────────────┼────────────────────────┼───────────────┤\n",
       "│ dense_4 (<span style=\"color: #0087ff; text-decoration-color: #0087ff\">Dense</span>)                 │ (<span style=\"color: #00d7ff; text-decoration-color: #00d7ff\">None</span>, <span style=\"color: #00af00; text-decoration-color: #00af00\">32</span>)             │         <span style=\"color: #00af00; text-decoration-color: #00af00\">2,080</span> │\n",
       "├─────────────────────────────────┼────────────────────────┼───────────────┤\n",
       "│ dropout_4 (<span style=\"color: #0087ff; text-decoration-color: #0087ff\">Dropout</span>)             │ (<span style=\"color: #00d7ff; text-decoration-color: #00d7ff\">None</span>, <span style=\"color: #00af00; text-decoration-color: #00af00\">32</span>)             │             <span style=\"color: #00af00; text-decoration-color: #00af00\">0</span> │\n",
       "├─────────────────────────────────┼────────────────────────┼───────────────┤\n",
       "│ dense_5 (<span style=\"color: #0087ff; text-decoration-color: #0087ff\">Dense</span>)                 │ (<span style=\"color: #00d7ff; text-decoration-color: #00d7ff\">None</span>, <span style=\"color: #00af00; text-decoration-color: #00af00\">1</span>)              │            <span style=\"color: #00af00; text-decoration-color: #00af00\">33</span> │\n",
       "└─────────────────────────────────┴────────────────────────┴───────────────┘\n",
       "</pre>\n"
      ],
      "text/plain": [
       "┏━━━━━━━━━━━━━━━━━━━━━━━━━━━━━━━━━┳━━━━━━━━━━━━━━━━━━━━━━━━┳━━━━━━━━━━━━━━━┓\n",
       "┃\u001b[1m \u001b[0m\u001b[1mLayer (type)                   \u001b[0m\u001b[1m \u001b[0m┃\u001b[1m \u001b[0m\u001b[1mOutput Shape          \u001b[0m\u001b[1m \u001b[0m┃\u001b[1m \u001b[0m\u001b[1m      Param #\u001b[0m\u001b[1m \u001b[0m┃\n",
       "┡━━━━━━━━━━━━━━━━━━━━━━━━━━━━━━━━━╇━━━━━━━━━━━━━━━━━━━━━━━━╇━━━━━━━━━━━━━━━┩\n",
       "│ lstm_5 (\u001b[38;5;33mLSTM\u001b[0m)                   │ (\u001b[38;5;45mNone\u001b[0m, \u001b[38;5;34m12055\u001b[0m, \u001b[38;5;34m128\u001b[0m)     │        \u001b[38;5;34m73,728\u001b[0m │\n",
       "├─────────────────────────────────┼────────────────────────┼───────────────┤\n",
       "│ dropout (\u001b[38;5;33mDropout\u001b[0m)               │ (\u001b[38;5;45mNone\u001b[0m, \u001b[38;5;34m12055\u001b[0m, \u001b[38;5;34m128\u001b[0m)     │             \u001b[38;5;34m0\u001b[0m │\n",
       "├─────────────────────────────────┼────────────────────────┼───────────────┤\n",
       "│ lstm_6 (\u001b[38;5;33mLSTM\u001b[0m)                   │ (\u001b[38;5;45mNone\u001b[0m, \u001b[38;5;34m12055\u001b[0m, \u001b[38;5;34m128\u001b[0m)     │       \u001b[38;5;34m131,584\u001b[0m │\n",
       "├─────────────────────────────────┼────────────────────────┼───────────────┤\n",
       "│ dropout_1 (\u001b[38;5;33mDropout\u001b[0m)             │ (\u001b[38;5;45mNone\u001b[0m, \u001b[38;5;34m12055\u001b[0m, \u001b[38;5;34m128\u001b[0m)     │             \u001b[38;5;34m0\u001b[0m │\n",
       "├─────────────────────────────────┼────────────────────────┼───────────────┤\n",
       "│ lstm_7 (\u001b[38;5;33mLSTM\u001b[0m)                   │ (\u001b[38;5;45mNone\u001b[0m, \u001b[38;5;34m128\u001b[0m)            │       \u001b[38;5;34m131,584\u001b[0m │\n",
       "├─────────────────────────────────┼────────────────────────┼───────────────┤\n",
       "│ dropout_2 (\u001b[38;5;33mDropout\u001b[0m)             │ (\u001b[38;5;45mNone\u001b[0m, \u001b[38;5;34m128\u001b[0m)            │             \u001b[38;5;34m0\u001b[0m │\n",
       "├─────────────────────────────────┼────────────────────────┼───────────────┤\n",
       "│ dense_3 (\u001b[38;5;33mDense\u001b[0m)                 │ (\u001b[38;5;45mNone\u001b[0m, \u001b[38;5;34m64\u001b[0m)             │         \u001b[38;5;34m8,256\u001b[0m │\n",
       "├─────────────────────────────────┼────────────────────────┼───────────────┤\n",
       "│ dropout_3 (\u001b[38;5;33mDropout\u001b[0m)             │ (\u001b[38;5;45mNone\u001b[0m, \u001b[38;5;34m64\u001b[0m)             │             \u001b[38;5;34m0\u001b[0m │\n",
       "├─────────────────────────────────┼────────────────────────┼───────────────┤\n",
       "│ dense_4 (\u001b[38;5;33mDense\u001b[0m)                 │ (\u001b[38;5;45mNone\u001b[0m, \u001b[38;5;34m32\u001b[0m)             │         \u001b[38;5;34m2,080\u001b[0m │\n",
       "├─────────────────────────────────┼────────────────────────┼───────────────┤\n",
       "│ dropout_4 (\u001b[38;5;33mDropout\u001b[0m)             │ (\u001b[38;5;45mNone\u001b[0m, \u001b[38;5;34m32\u001b[0m)             │             \u001b[38;5;34m0\u001b[0m │\n",
       "├─────────────────────────────────┼────────────────────────┼───────────────┤\n",
       "│ dense_5 (\u001b[38;5;33mDense\u001b[0m)                 │ (\u001b[38;5;45mNone\u001b[0m, \u001b[38;5;34m1\u001b[0m)              │            \u001b[38;5;34m33\u001b[0m │\n",
       "└─────────────────────────────────┴────────────────────────┴───────────────┘\n"
      ]
     },
     "metadata": {},
     "output_type": "display_data"
    },
    {
     "data": {
      "text/html": [
       "<pre style=\"white-space:pre;overflow-x:auto;line-height:normal;font-family:Menlo,'DejaVu Sans Mono',consolas,'Courier New',monospace\"><span style=\"font-weight: bold\"> Total params: </span><span style=\"color: #00af00; text-decoration-color: #00af00\">347,265</span> (1.32 MB)\n",
       "</pre>\n"
      ],
      "text/plain": [
       "\u001b[1m Total params: \u001b[0m\u001b[38;5;34m347,265\u001b[0m (1.32 MB)\n"
      ]
     },
     "metadata": {},
     "output_type": "display_data"
    },
    {
     "data": {
      "text/html": [
       "<pre style=\"white-space:pre;overflow-x:auto;line-height:normal;font-family:Menlo,'DejaVu Sans Mono',consolas,'Courier New',monospace\"><span style=\"font-weight: bold\"> Trainable params: </span><span style=\"color: #00af00; text-decoration-color: #00af00\">347,265</span> (1.32 MB)\n",
       "</pre>\n"
      ],
      "text/plain": [
       "\u001b[1m Trainable params: \u001b[0m\u001b[38;5;34m347,265\u001b[0m (1.32 MB)\n"
      ]
     },
     "metadata": {},
     "output_type": "display_data"
    },
    {
     "data": {
      "text/html": [
       "<pre style=\"white-space:pre;overflow-x:auto;line-height:normal;font-family:Menlo,'DejaVu Sans Mono',consolas,'Courier New',monospace\"><span style=\"font-weight: bold\"> Non-trainable params: </span><span style=\"color: #00af00; text-decoration-color: #00af00\">0</span> (0.00 B)\n",
       "</pre>\n"
      ],
      "text/plain": [
       "\u001b[1m Non-trainable params: \u001b[0m\u001b[38;5;34m0\u001b[0m (0.00 B)\n"
      ]
     },
     "metadata": {},
     "output_type": "display_data"
    },
    {
     "name": "stdout",
     "output_type": "stream",
     "text": [
      "Epoch 1/10\n",
      "\u001b[1m15/15\u001b[0m \u001b[32m━━━━━━━━━━━━━━━━━━━━\u001b[0m\u001b[37m\u001b[0m \u001b[1m26s\u001b[0m 1s/step - accuracy: 0.6750 - loss: 0.6926\n",
      "Epoch 2/10\n",
      "\u001b[1m15/15\u001b[0m \u001b[32m━━━━━━━━━━━━━━━━━━━━\u001b[0m\u001b[37m\u001b[0m \u001b[1m22s\u001b[0m 1s/step - accuracy: 0.6817 - loss: 0.6794\n",
      "Epoch 3/10\n",
      "\u001b[1m15/15\u001b[0m \u001b[32m━━━━━━━━━━━━━━━━━━━━\u001b[0m\u001b[37m\u001b[0m \u001b[1m22s\u001b[0m 1s/step - accuracy: 0.6801 - loss: 0.6368\n",
      "Epoch 4/10\n",
      "\u001b[1m15/15\u001b[0m \u001b[32m━━━━━━━━━━━━━━━━━━━━\u001b[0m\u001b[37m\u001b[0m \u001b[1m22s\u001b[0m 1s/step - accuracy: 0.6817 - loss: 0.6378\n",
      "Epoch 5/10\n",
      "\u001b[1m15/15\u001b[0m \u001b[32m━━━━━━━━━━━━━━━━━━━━\u001b[0m\u001b[37m\u001b[0m \u001b[1m41s\u001b[0m 1s/step - accuracy: 0.6975 - loss: 0.6247\n",
      "Epoch 6/10\n",
      "\u001b[1m15/15\u001b[0m \u001b[32m━━━━━━━━━━━━━━━━━━━━\u001b[0m\u001b[37m\u001b[0m \u001b[1m22s\u001b[0m 1s/step - accuracy: 0.6654 - loss: 0.6443\n",
      "Epoch 7/10\n",
      "\u001b[1m15/15\u001b[0m \u001b[32m━━━━━━━━━━━━━━━━━━━━\u001b[0m\u001b[37m\u001b[0m \u001b[1m22s\u001b[0m 1s/step - accuracy: 0.6545 - loss: 0.6432\n",
      "Epoch 8/10\n",
      "\u001b[1m15/15\u001b[0m \u001b[32m━━━━━━━━━━━━━━━━━━━━\u001b[0m\u001b[37m\u001b[0m \u001b[1m22s\u001b[0m 1s/step - accuracy: 0.6729 - loss: 0.6494\n",
      "Epoch 9/10\n",
      "\u001b[1m15/15\u001b[0m \u001b[32m━━━━━━━━━━━━━━━━━━━━\u001b[0m\u001b[37m\u001b[0m \u001b[1m22s\u001b[0m 1s/step - accuracy: 0.6609 - loss: 0.6542\n",
      "Epoch 10/10\n",
      "\u001b[1m15/15\u001b[0m \u001b[32m━━━━━━━━━━━━━━━━━━━━\u001b[0m\u001b[37m\u001b[0m \u001b[1m22s\u001b[0m 1s/step - accuracy: 0.6709 - loss: 0.6404\n"
     ]
    }
   ],
   "source": [
    "from keras.models import Sequential\n",
    "from keras.layers import LSTM, Dense, Dropout\n",
    "\n",
    "# Define the input shape\n",
    "input_shape = (12055, 15)\n",
    "\n",
    "# Create the model\n",
    "model = Sequential()\n",
    "model.add(LSTM(128, input_shape=input_shape, return_sequences=True))\n",
    "model.add(Dropout(0.2))\n",
    "model.add(LSTM(128, return_sequences=True))\n",
    "model.add(Dropout(0.2))\n",
    "model.add(LSTM(128))\n",
    "model.add(Dropout(0.2))\n",
    "model.add(Dense(64, activation='relu'))\n",
    "model.add(Dropout(0.2))\n",
    "model.add(Dense(32, activation='relu'))\n",
    "model.add(Dropout(0.2))\n",
    "model.add(Dense(1, activation='sigmoid'))\n",
    "\n",
    "# Compile the model\n",
    "model.compile(optimizer='adam', loss='binary_crossentropy', metrics=['accuracy'])\n",
    "model.summary()\n",
    "model.fit(X_train, y_train, epochs=10, batch_size=32)\n",
    "model.save('lstm_model.h5')"
   ]
  },
  {
   "cell_type": "code",
   "execution_count": 10,
   "id": "7af58fd8",
   "metadata": {
    "execution": {
     "iopub.execute_input": "2024-06-08T15:03:24.693321Z",
     "iopub.status.busy": "2024-06-08T15:03:24.692987Z",
     "iopub.status.idle": "2024-06-08T15:14:26.460617Z",
     "shell.execute_reply": "2024-06-08T15:14:26.459484Z"
    },
    "papermill": {
     "duration": 661.833956,
     "end_time": "2024-06-08T15:14:26.463063",
     "exception": false,
     "start_time": "2024-06-08T15:03:24.629107",
     "status": "completed"
    },
    "tags": []
   },
   "outputs": [
    {
     "data": {
      "text/html": [
       "<pre style=\"white-space:pre;overflow-x:auto;line-height:normal;font-family:Menlo,'DejaVu Sans Mono',consolas,'Courier New',monospace\"><span style=\"font-weight: bold\">Model: \"sequential_4\"</span>\n",
       "</pre>\n"
      ],
      "text/plain": [
       "\u001b[1mModel: \"sequential_4\"\u001b[0m\n"
      ]
     },
     "metadata": {},
     "output_type": "display_data"
    },
    {
     "data": {
      "text/html": [
       "<pre style=\"white-space:pre;overflow-x:auto;line-height:normal;font-family:Menlo,'DejaVu Sans Mono',consolas,'Courier New',monospace\">┏━━━━━━━━━━━━━━━━━━━━━━━━━━━━━━━━━┳━━━━━━━━━━━━━━━━━━━━━━━━┳━━━━━━━━━━━━━━━┓\n",
       "┃<span style=\"font-weight: bold\"> Layer (type)                    </span>┃<span style=\"font-weight: bold\"> Output Shape           </span>┃<span style=\"font-weight: bold\">       Param # </span>┃\n",
       "┡━━━━━━━━━━━━━━━━━━━━━━━━━━━━━━━━━╇━━━━━━━━━━━━━━━━━━━━━━━━╇━━━━━━━━━━━━━━━┩\n",
       "│ bidirectional (<span style=\"color: #0087ff; text-decoration-color: #0087ff\">Bidirectional</span>)   │ (<span style=\"color: #00d7ff; text-decoration-color: #00d7ff\">None</span>, <span style=\"color: #00af00; text-decoration-color: #00af00\">12055</span>, <span style=\"color: #00af00; text-decoration-color: #00af00\">256</span>)     │       <span style=\"color: #00af00; text-decoration-color: #00af00\">147,456</span> │\n",
       "├─────────────────────────────────┼────────────────────────┼───────────────┤\n",
       "│ bidirectional_1 (<span style=\"color: #0087ff; text-decoration-color: #0087ff\">Bidirectional</span>) │ (<span style=\"color: #00d7ff; text-decoration-color: #00d7ff\">None</span>, <span style=\"color: #00af00; text-decoration-color: #00af00\">12055</span>, <span style=\"color: #00af00; text-decoration-color: #00af00\">256</span>)     │       <span style=\"color: #00af00; text-decoration-color: #00af00\">394,240</span> │\n",
       "├─────────────────────────────────┼────────────────────────┼───────────────┤\n",
       "│ bidirectional_2 (<span style=\"color: #0087ff; text-decoration-color: #0087ff\">Bidirectional</span>) │ (<span style=\"color: #00d7ff; text-decoration-color: #00d7ff\">None</span>, <span style=\"color: #00af00; text-decoration-color: #00af00\">12055</span>, <span style=\"color: #00af00; text-decoration-color: #00af00\">256</span>)     │       <span style=\"color: #00af00; text-decoration-color: #00af00\">394,240</span> │\n",
       "├─────────────────────────────────┼────────────────────────┼───────────────┤\n",
       "│ bidirectional_3 (<span style=\"color: #0087ff; text-decoration-color: #0087ff\">Bidirectional</span>) │ (<span style=\"color: #00d7ff; text-decoration-color: #00d7ff\">None</span>, <span style=\"color: #00af00; text-decoration-color: #00af00\">256</span>)            │       <span style=\"color: #00af00; text-decoration-color: #00af00\">394,240</span> │\n",
       "├─────────────────────────────────┼────────────────────────┼───────────────┤\n",
       "│ dense_6 (<span style=\"color: #0087ff; text-decoration-color: #0087ff\">Dense</span>)                 │ (<span style=\"color: #00d7ff; text-decoration-color: #00d7ff\">None</span>, <span style=\"color: #00af00; text-decoration-color: #00af00\">64</span>)             │        <span style=\"color: #00af00; text-decoration-color: #00af00\">16,448</span> │\n",
       "├─────────────────────────────────┼────────────────────────┼───────────────┤\n",
       "│ dense_7 (<span style=\"color: #0087ff; text-decoration-color: #0087ff\">Dense</span>)                 │ (<span style=\"color: #00d7ff; text-decoration-color: #00d7ff\">None</span>, <span style=\"color: #00af00; text-decoration-color: #00af00\">32</span>)             │         <span style=\"color: #00af00; text-decoration-color: #00af00\">2,080</span> │\n",
       "├─────────────────────────────────┼────────────────────────┼───────────────┤\n",
       "│ dense_8 (<span style=\"color: #0087ff; text-decoration-color: #0087ff\">Dense</span>)                 │ (<span style=\"color: #00d7ff; text-decoration-color: #00d7ff\">None</span>, <span style=\"color: #00af00; text-decoration-color: #00af00\">1</span>)              │            <span style=\"color: #00af00; text-decoration-color: #00af00\">33</span> │\n",
       "└─────────────────────────────────┴────────────────────────┴───────────────┘\n",
       "</pre>\n"
      ],
      "text/plain": [
       "┏━━━━━━━━━━━━━━━━━━━━━━━━━━━━━━━━━┳━━━━━━━━━━━━━━━━━━━━━━━━┳━━━━━━━━━━━━━━━┓\n",
       "┃\u001b[1m \u001b[0m\u001b[1mLayer (type)                   \u001b[0m\u001b[1m \u001b[0m┃\u001b[1m \u001b[0m\u001b[1mOutput Shape          \u001b[0m\u001b[1m \u001b[0m┃\u001b[1m \u001b[0m\u001b[1m      Param #\u001b[0m\u001b[1m \u001b[0m┃\n",
       "┡━━━━━━━━━━━━━━━━━━━━━━━━━━━━━━━━━╇━━━━━━━━━━━━━━━━━━━━━━━━╇━━━━━━━━━━━━━━━┩\n",
       "│ bidirectional (\u001b[38;5;33mBidirectional\u001b[0m)   │ (\u001b[38;5;45mNone\u001b[0m, \u001b[38;5;34m12055\u001b[0m, \u001b[38;5;34m256\u001b[0m)     │       \u001b[38;5;34m147,456\u001b[0m │\n",
       "├─────────────────────────────────┼────────────────────────┼───────────────┤\n",
       "│ bidirectional_1 (\u001b[38;5;33mBidirectional\u001b[0m) │ (\u001b[38;5;45mNone\u001b[0m, \u001b[38;5;34m12055\u001b[0m, \u001b[38;5;34m256\u001b[0m)     │       \u001b[38;5;34m394,240\u001b[0m │\n",
       "├─────────────────────────────────┼────────────────────────┼───────────────┤\n",
       "│ bidirectional_2 (\u001b[38;5;33mBidirectional\u001b[0m) │ (\u001b[38;5;45mNone\u001b[0m, \u001b[38;5;34m12055\u001b[0m, \u001b[38;5;34m256\u001b[0m)     │       \u001b[38;5;34m394,240\u001b[0m │\n",
       "├─────────────────────────────────┼────────────────────────┼───────────────┤\n",
       "│ bidirectional_3 (\u001b[38;5;33mBidirectional\u001b[0m) │ (\u001b[38;5;45mNone\u001b[0m, \u001b[38;5;34m256\u001b[0m)            │       \u001b[38;5;34m394,240\u001b[0m │\n",
       "├─────────────────────────────────┼────────────────────────┼───────────────┤\n",
       "│ dense_6 (\u001b[38;5;33mDense\u001b[0m)                 │ (\u001b[38;5;45mNone\u001b[0m, \u001b[38;5;34m64\u001b[0m)             │        \u001b[38;5;34m16,448\u001b[0m │\n",
       "├─────────────────────────────────┼────────────────────────┼───────────────┤\n",
       "│ dense_7 (\u001b[38;5;33mDense\u001b[0m)                 │ (\u001b[38;5;45mNone\u001b[0m, \u001b[38;5;34m32\u001b[0m)             │         \u001b[38;5;34m2,080\u001b[0m │\n",
       "├─────────────────────────────────┼────────────────────────┼───────────────┤\n",
       "│ dense_8 (\u001b[38;5;33mDense\u001b[0m)                 │ (\u001b[38;5;45mNone\u001b[0m, \u001b[38;5;34m1\u001b[0m)              │            \u001b[38;5;34m33\u001b[0m │\n",
       "└─────────────────────────────────┴────────────────────────┴───────────────┘\n"
      ]
     },
     "metadata": {},
     "output_type": "display_data"
    },
    {
     "data": {
      "text/html": [
       "<pre style=\"white-space:pre;overflow-x:auto;line-height:normal;font-family:Menlo,'DejaVu Sans Mono',consolas,'Courier New',monospace\"><span style=\"font-weight: bold\"> Total params: </span><span style=\"color: #00af00; text-decoration-color: #00af00\">1,348,737</span> (5.15 MB)\n",
       "</pre>\n"
      ],
      "text/plain": [
       "\u001b[1m Total params: \u001b[0m\u001b[38;5;34m1,348,737\u001b[0m (5.15 MB)\n"
      ]
     },
     "metadata": {},
     "output_type": "display_data"
    },
    {
     "data": {
      "text/html": [
       "<pre style=\"white-space:pre;overflow-x:auto;line-height:normal;font-family:Menlo,'DejaVu Sans Mono',consolas,'Courier New',monospace\"><span style=\"font-weight: bold\"> Trainable params: </span><span style=\"color: #00af00; text-decoration-color: #00af00\">1,348,737</span> (5.15 MB)\n",
       "</pre>\n"
      ],
      "text/plain": [
       "\u001b[1m Trainable params: \u001b[0m\u001b[38;5;34m1,348,737\u001b[0m (5.15 MB)\n"
      ]
     },
     "metadata": {},
     "output_type": "display_data"
    },
    {
     "data": {
      "text/html": [
       "<pre style=\"white-space:pre;overflow-x:auto;line-height:normal;font-family:Menlo,'DejaVu Sans Mono',consolas,'Courier New',monospace\"><span style=\"font-weight: bold\"> Non-trainable params: </span><span style=\"color: #00af00; text-decoration-color: #00af00\">0</span> (0.00 B)\n",
       "</pre>\n"
      ],
      "text/plain": [
       "\u001b[1m Non-trainable params: \u001b[0m\u001b[38;5;34m0\u001b[0m (0.00 B)\n"
      ]
     },
     "metadata": {},
     "output_type": "display_data"
    },
    {
     "name": "stdout",
     "output_type": "stream",
     "text": [
      "Epoch 1/10\n",
      "\u001b[1m15/15\u001b[0m \u001b[32m━━━━━━━━━━━━━━━━━━━━\u001b[0m\u001b[37m\u001b[0m \u001b[1m68s\u001b[0m 4s/step - accuracy: 0.7196 - loss: 0.5943\n",
      "Epoch 2/10\n",
      "\u001b[1m15/15\u001b[0m \u001b[32m━━━━━━━━━━━━━━━━━━━━\u001b[0m\u001b[37m\u001b[0m \u001b[1m61s\u001b[0m 4s/step - accuracy: 0.7985 - loss: 0.4982\n",
      "Epoch 3/10\n",
      "\u001b[1m15/15\u001b[0m \u001b[32m━━━━━━━━━━━━━━━━━━━━\u001b[0m\u001b[37m\u001b[0m \u001b[1m82s\u001b[0m 4s/step - accuracy: 0.8208 - loss: 0.3739\n",
      "Epoch 4/10\n",
      "\u001b[1m15/15\u001b[0m \u001b[32m━━━━━━━━━━━━━━━━━━━━\u001b[0m\u001b[37m\u001b[0m \u001b[1m61s\u001b[0m 4s/step - accuracy: 0.7842 - loss: 0.3917\n",
      "Epoch 5/10\n",
      "\u001b[1m15/15\u001b[0m \u001b[32m━━━━━━━━━━━━━━━━━━━━\u001b[0m\u001b[37m\u001b[0m \u001b[1m82s\u001b[0m 4s/step - accuracy: 0.8859 - loss: 0.3411\n",
      "Epoch 6/10\n",
      "\u001b[1m15/15\u001b[0m \u001b[32m━━━━━━━━━━━━━━━━━━━━\u001b[0m\u001b[37m\u001b[0m \u001b[1m61s\u001b[0m 4s/step - accuracy: 0.9408 - loss: 0.1891\n",
      "Epoch 7/10\n",
      "\u001b[1m15/15\u001b[0m \u001b[32m━━━━━━━━━━━━━━━━━━━━\u001b[0m\u001b[37m\u001b[0m \u001b[1m61s\u001b[0m 4s/step - accuracy: 0.8839 - loss: 0.3067\n",
      "Epoch 8/10\n",
      "\u001b[1m15/15\u001b[0m \u001b[32m━━━━━━━━━━━━━━━━━━━━\u001b[0m\u001b[37m\u001b[0m \u001b[1m61s\u001b[0m 4s/step - accuracy: 0.9344 - loss: 0.1883\n",
      "Epoch 9/10\n",
      "\u001b[1m15/15\u001b[0m \u001b[32m━━━━━━━━━━━━━━━━━━━━\u001b[0m\u001b[37m\u001b[0m \u001b[1m61s\u001b[0m 4s/step - accuracy: 0.9285 - loss: 0.2199\n",
      "Epoch 10/10\n",
      "\u001b[1m15/15\u001b[0m \u001b[32m━━━━━━━━━━━━━━━━━━━━\u001b[0m\u001b[37m\u001b[0m \u001b[1m61s\u001b[0m 4s/step - accuracy: 0.8950 - loss: 0.2710\n"
     ]
    }
   ],
   "source": [
    "from keras.models import Sequential\n",
    "from keras.layers import LSTM, Dense, Dropout, Bidirectional\n",
    "\n",
    "# Define the input shape\n",
    "input_shape = (12055, 15)\n",
    "\n",
    "# Create the model\n",
    "model = Sequential()\n",
    "model.add(Bidirectional(LSTM(128, return_sequences=True), input_shape=input_shape))\n",
    "# model.add(Dropout(0.2))\n",
    "model.add(Bidirectional(LSTM(128, return_sequences=True)))\n",
    "# model.add(Dropout(0.2))\n",
    "model.add(Bidirectional(LSTM(128, return_sequences=True)))\n",
    "# model.add(Dropout(0.2))\n",
    "model.add(Bidirectional(LSTM(128)))\n",
    "# model.add(Dropout(0.2))\n",
    "model.add(Dense(64, activation='relu'))\n",
    "# model.add(Dropout(0.2))\n",
    "model.add(Dense(32, activation='relu'))\n",
    "# model.add(Dropout(0.2))\n",
    "model.add(Dense(1, activation='sigmoid'))\n",
    "\n",
    "# Compile the model\n",
    "model.compile(optimizer='adam', loss='binary_crossentropy', metrics=['accuracy'])\n",
    "\n",
    "model.summary()\n",
    "model.fit(X_train, y_train, epochs=10, batch_size=32)\n",
    "model.save('lstm_model.h5')"
   ]
  }
 ],
 "metadata": {
  "kaggle": {
   "accelerator": "gpu",
   "dataSources": [
    {
     "datasetId": 5125837,
     "sourceId": 8572309,
     "sourceType": "datasetVersion"
    },
    {
     "datasetId": 5125850,
     "sourceId": 8572329,
     "sourceType": "datasetVersion"
    }
   ],
   "dockerImageVersionId": 30715,
   "isGpuEnabled": true,
   "isInternetEnabled": true,
   "language": "python",
   "sourceType": "notebook"
  },
  "kernelspec": {
   "display_name": "Python 3",
   "language": "python",
   "name": "python3"
  },
  "language_info": {
   "codemirror_mode": {
    "name": "ipython",
    "version": 3
   },
   "file_extension": ".py",
   "mimetype": "text/x-python",
   "name": "python",
   "nbconvert_exporter": "python",
   "pygments_lexer": "ipython3",
   "version": "3.10.13"
  },
  "papermill": {
   "default_parameters": {},
   "duration": 2421.137591,
   "end_time": "2024-06-08T15:14:29.573640",
   "environment_variables": {},
   "exception": null,
   "input_path": "__notebook__.ipynb",
   "output_path": "__notebook__.ipynb",
   "parameters": {},
   "start_time": "2024-06-08T14:34:08.436049",
   "version": "2.5.0"
  }
 },
 "nbformat": 4,
 "nbformat_minor": 5
}

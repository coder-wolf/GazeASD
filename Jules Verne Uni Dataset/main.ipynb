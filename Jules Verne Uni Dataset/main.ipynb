{
 "cells": [
  {
   "cell_type": "code",
   "execution_count": null,
   "metadata": {},
   "outputs": [],
   "source": [
    "import pandas as pd\n",
    "import os\n",
    "\n",
    "import warnings\n",
    "warnings.filterwarnings('ignore')\n",
    "\n",
    "directory = 'dataset/'\n",
    "df = pd.DataFrame()\n",
    "\n",
    "for filename in os.listdir(directory):\n",
    "    if filename.endswith(\".csv\"):\n",
    "        # Read the CSV file into a DataFrame\n",
    "        currFile = pd.read_csv(os.path.join(directory, filename))\n",
    "        # Concatenate the DataFrame to the existing one\n",
    "        df = pd.concat([df, currFile], ignore_index=True)"
   ]
  },
  {
   "cell_type": "code",
   "execution_count": null,
   "metadata": {},
   "outputs": [],
   "source": [
    "# Remove columns\n",
    "\n",
    "columns = [\n",
    "    \"RecordingTime [ms]\", # Done - no null values actually there\n",
    "    \"Time of Day [h:m:s:ms]\", # \n",
    "    \"Participant\", # Done: Remove Missing Value, Remove unusables, null, undefined and such values, \n",
    "    \"Pupil Diameter Right [mm]\", # Code is there, just put it together.\n",
    "    \"Pupil Diameter Left [mm]\", # Code is there, just put it together.\n",
    "    \"Point of Regard Right X [px]\", # ??\n",
    "    \"Point of Regard Right Y [px]\", # ??\n",
    "    \"Point of Regard Left X [px]\", # ??\n",
    "    \"Point of Regard Left Y [px]\", # ??\n",
    "    \"Category Right\", # Done - Encoding, Missing Value\n",
    "    \"Category Left\", # DONE - Encoding, Missing Value\n",
    "]\n",
    "\n",
    "\n",
    "df_0_columns_separated = df[columns]"
   ]
  },
  {
   "cell_type": "code",
   "execution_count": null,
   "metadata": {},
   "outputs": [],
   "source": [
    "import matplotlib.pyplot as plt\n",
    "\n",
    "df = df_0_columns_separated \n",
    "df[\"RecordingTime [ms]\"].describe()\n",
    "\n",
    "is_null_in_column = df['RecordingTime [ms]'].isnull().any()\n",
    "is_null_in_column # No null values then!\n",
    "\n",
    "df_1_rec_time_processed = df"
   ]
  },
  {
   "cell_type": "code",
   "execution_count": null,
   "metadata": {},
   "outputs": [],
   "source": [
    "\n",
    "\n",
    "import matplotlib.pyplot as plt\n",
    "\n",
    "df = df_1_rec_time_processed\n",
    "df[\"Time of Day [h:m:s:ms]\"].describe()\n",
    "\n",
    "is_null_in_column = df['Time of Day [h:m:s:ms]'].isnull().any()\n",
    "is_null_in_column # same, no null\n",
    "\n",
    "df_2_time_of_day = df"
   ]
  },
  {
   "cell_type": "code",
   "execution_count": null,
   "metadata": {},
   "outputs": [],
   "source": [
    "# print(\"Before: \")\n",
    "# print(df[\"Participant\"].unique())\n",
    "\n",
    "# Issue: some are in string type, some are in number type\n",
    "\n",
    "df = df_2_time_of_day\n",
    "df = df[(df['Participant'] != 'Unidentified(Neg)') & (df['Participant'] != 'Unidentified(Pos)')]\n",
    "df[\"Participant\"] = pd.to_numeric(df[\"Participant\"], errors='coerce')\n",
    "\n",
    "# print(\"After: \")\n",
    "# print(df_processed_test[\"Participant\"].unique())\n",
    "\n",
    "df_3_participant = df"
   ]
  },
  {
   "cell_type": "code",
   "execution_count": null,
   "metadata": {},
   "outputs": [],
   "source": [
    "df = df_3_participant\n",
    "\n",
    "\n",
    "column_name = \"Pupil Diameter Right [mm]\"\n",
    "\n",
    "df[column_name] = df[column_name].astype(str) \n",
    "df = df[pd.to_numeric(df[column_name], errors='coerce').notnull()]\n",
    "df[column_name] = pd.to_numeric(df[column_name], errors='coerce') \n",
    "df = df[df[column_name] != 0] \n",
    "\n",
    "column_name = \"Pupil Diameter Left [mm]\"\n",
    "\n",
    "df[column_name] = df[column_name].astype(str)\n",
    "df = df[pd.to_numeric(df[column_name], errors='coerce').notnull()]  \n",
    "df[column_name] = pd.to_numeric(df[column_name], errors='coerce') \n",
    "df = df[df[column_name] != 0] \n",
    "\n",
    "\n",
    "df_5_pupil_both = df"
   ]
  },
  {
   "cell_type": "code",
   "execution_count": null,
   "metadata": {},
   "outputs": [],
   "source": [
    "point_of_regard_idx = [\n",
    "    \"Point of Regard Right X [px]\",\n",
    "    \"Point of Regard Right Y [px]\",\n",
    "    \"Point of Regard Left X [px]\",\n",
    "    \"Point of Regard Left Y [px]\",\n",
    "]\n",
    "\n",
    "\n",
    "for point in point_of_regard_idx:\n",
    "    # drop null\n",
    "    df.dropna(subset=[point], inplace=True)\n",
    "    df = df.drop(df[df[point] == '-'].index)\n",
    "    a = pd.to_numeric(df[point])\n",
    "\n",
    "df_9_point_of_regard = df_5_pupil_both"
   ]
  },
  {
   "cell_type": "code",
   "execution_count": null,
   "metadata": {},
   "outputs": [],
   "source": [
    "# Processing - Category Left, Category Right\n",
    "\n",
    "stays = [\n",
    "    \"Fixation\",\n",
    "    \"Saccade\",\n",
    "    \"Blink\"\n",
    "]\n",
    "\n",
    "goes = [\n",
    "    \"Separator\",\n",
    "    \"-\",\n",
    "    \"Left Click\",\n",
    "    # Null\n",
    "]\n",
    "\n",
    "# 1. Remove missing data\n",
    "# 2. Convert to numeric values??\n",
    "\n",
    "df = df_9_point_of_regard\n",
    "\n",
    "df = df[df['Category Left'].isin(stays)]\n",
    "df = df[df['Category Right'].isin(stays)]\n",
    "\n",
    "\n",
    "\n",
    "df = pd.get_dummies(df, columns=['Category Left'], prefix=['Category Left'])\n",
    "df = pd.get_dummies(df, columns=['Category Right'], prefix=['Category Right'])\n",
    "df.head()\n",
    "# df.had()\n",
    "\n",
    "df_final = df\n",
    "df = df_final"
   ]
  },
  {
   "cell_type": "code",
   "execution_count": null,
   "metadata": {},
   "outputs": [],
   "source": [
    "# mapping subId to ASD / TD \n",
    "metadata = pd.read_csv(\"./Metadata_Participants.csv\")\n",
    "subjectClass = dict()\n",
    "for idx, row in metadata.iterrows():\n",
    "    subject = (row[\"ParticipantID\"])\n",
    "    category = (row[\"Class\"])\n",
    "    subjectClass[subject] = 1 if category == 'ASD' else 0\n",
    "\n",
    "def getClass(subjectId):\n",
    "    return subjectClass[subjectId]\n",
    "\n",
    "# for index, row in df.iterrows():\n",
    "#     subId = row[\"Participant\"]\n",
    "#     print(subId)"
   ]
  },
  {
   "cell_type": "code",
   "execution_count": null,
   "metadata": {},
   "outputs": [],
   "source": [
    "y = []\n",
    "# Assigning class\n",
    "for index, row in df.iterrows():\n",
    "    y.append(getClass(row[\"Participant\"]))\n",
    "\n",
    "y\n",
    "X = df"
   ]
  },
  {
   "cell_type": "code",
   "execution_count": null,
   "metadata": {},
   "outputs": [],
   "source": [
    "# df.to_csv('dataset_preprocessed.csv', index=False)"
   ]
  },
  {
   "cell_type": "markdown",
   "metadata": {},
   "source": [
    "After grouping by sessions is done, we can do this.\n",
    "\n",
    "- Consider each individual session as a singular data unit.\n",
    "- From each units of data, compute all the feautures, and feed it into the classifier for proper patterns recognition\n",
    "- Goal is to find as many features, correlated to ASD vs TD as possible.\n",
    "- Hypothesis is there should be subtle patterns in eye movement speeds, fixation duration, and other similar charecteristics\n",
    "- Eye pupil diameters reveal one's interest in a certain object / event / topic. Based on this, we can calculate how long a subject is able to hold his/her interest, and possibility is, that people with ASD will have different duration they can hold interests, ideally more on objects, less on people, and maybe similar to ADHD, there is some other patterns that otherwise would've been overlooked, in the topic of interest. Possible patterns:\n",
    "    - How long can a subject hold interest\n",
    "    - How often does he/she change it\n",
    "    - Fatigue? How long till he loses interest, in a given session (is this correlated?)\n",
    "    - Saccade movement, and pupil diameter, is there any correlation / patterns\n",
    "- Eye movement is typically faster in ASD (ref. - )\n",
    "- Ability to focus on an object right after fast switching of gaze, is slower among ASD (ref. - )\n",
    "- Eye movements should be far less among TD than ASD, ASD people's gaze movement should be faster, little erratic, and possibly a bit jittery. Unable to focus.\n",
    "- "
   ]
  },
  {
   "cell_type": "markdown",
   "metadata": {},
   "source": [
    "# Feature Engineering\n",
    "Features to compute:\n",
    "- [ ] Gaze Speed\n",
    "- [ ] Fixation Duration\n",
    "\n",
    "As is:\n",
    "\n",
    "- [ ] Pupil Diameter\n",
    "- [ ] Category left, right\n",
    "- [ ] \n",
    "\n",
    "Not sure if necessary:\n",
    "- [ ] Point of regards\n",
    "- [ ] Time of day (Can be used for separating sessions)\n",
    "- [ ] Recording Time (can be used for separating sessions)\n",
    "\n",
    "---\n",
    "\n",
    "After:\n",
    "\n",
    "- Distance between points\n",
    "- Gaze Speed\n",
    "- Fixation duration\n",
    "- Eye movement type (Fixation, Saccade, Blink) - 6 Cols, after encoding\n",
    "- Pupil Diameter (Left, Right)\n",
    "- Changes / Difference in fixation duration between consequent points\n",
    "- Changes / Difference in distance between consequent points\n"
   ]
  },
  {
   "cell_type": "code",
   "execution_count": null,
   "metadata": {},
   "outputs": [],
   "source": [
    "allSessions = []\n",
    "currSession = pd.DataFrame()\n",
    "\n",
    "prevId = -1\n",
    "for index, row in df.iterrows():\n",
    "    # if prev id is not same as curr id, then push the currSession to allSessions. And create new session\n",
    "    if row[\"Participant\"] != prevId:\n",
    "        allSessions.append(currSession)\n",
    "        currSession = pd.DataFrame()\n",
    "        # pass\n",
    "    prevId = row[\"Participant\"]\n",
    "    # currSession.append(row)\n",
    "    currSession =  pd.concat([df1, df2], ignore_index=True, sort=False)\n",
    "\n"
   ]
  },
  {
   "cell_type": "code",
   "execution_count": null,
   "metadata": {},
   "outputs": [],
   "source": [
    "import math \n",
    "\n",
    "def getDistanceBetweenPoints(row, prevRow):\n",
    "    leftX = float(row[\"Point of Regard Left X [px]\"])\n",
    "    leftY = float(row[\"Point of Regard Left Y [px]\"])\n",
    "    rightX = float(row[\"Point of Regard Right X [px]\"])\n",
    "    rightY = float(row[\"Point of Regard Right Y [px]\"])\n",
    "\n",
    "    x1 = (leftX + rightX) / 2\n",
    "    y1 = (leftY + rightY) / 2\n",
    "\n",
    "    prevLeftX = float(prevRow[\"Point of Regard Left X [px]\"])\n",
    "    prevLeftY = float(prevRow[\"Point of Regard Left Y [px]\"])\n",
    "    prevRightX = float(prevRow[\"Point of Regard Right X [px]\"])\n",
    "    prevRightY = float(prevRow[\"Point of Regard Right Y [px]\"])\n",
    "\n",
    "    x2 = (prevLeftX + prevRightX) / 2\n",
    "    y2 = (prevLeftY + prevRightY) / 2\n",
    "\n",
    "    distance = math.sqrt((x2 - x1)**2 + (y2 - y1)**2)\n",
    "\n",
    "    return distance\n",
    "\n",
    "\n",
    "def getChangesInDistanceBetweenPoints(currDist, prevDist):\n",
    "    return abs(currDist - prevDist)\n",
    "\n",
    "def getGazeSpeed(dist, duration):\n",
    "    return dist / duration"
   ]
  },
  {
   "cell_type": "code",
   "execution_count": null,
   "metadata": {},
   "outputs": [],
   "source": [
    "feat1_dist = []\n",
    "feat2_dist_diffs = []\n",
    "# feat3_speed = []\n",
    "\n",
    "prevRow = None\n",
    "prevDist = 0\n",
    "for i, row in df.iterrows():\n",
    "    if prevRow is None:\n",
    "        prevRow = row\n",
    "    dist = getDistanceBetweenPoints(row, prevRow)\n",
    "    dist_diff = getChangesInDistanceBetweenPoints(dist, prevDist)\n",
    "    # speed = \n",
    "\n",
    "    prevRow = row\n",
    "    prevDist = dist\n",
    "\n",
    "    feat1_dist.append(dist)\n",
    "    feat2_dist_diffs.append(dist_diff)\n",
    "\n",
    "print(feat1_dist)\n",
    "print(feat2_dist_diffs)"
   ]
  },
  {
   "cell_type": "code",
   "execution_count": null,
   "metadata": {},
   "outputs": [],
   "source": [
    "# To DataFrame\n",
    "\n",
    "feat1_dist = pd.DataFrame(feat1_dist)\n",
    "feat2_dist_diffs = pd.DataFrame(feat2_dist_diffs)"
   ]
  },
  {
   "cell_type": "code",
   "execution_count": null,
   "metadata": {},
   "outputs": [],
   "source": [
    "feat1_dist.columns = [\"Distance\"]\n",
    "feat2_dist_diffs.columns = [\"Distance Difference\"]"
   ]
  },
  {
   "cell_type": "code",
   "execution_count": null,
   "metadata": {},
   "outputs": [],
   "source": [
    "as_is = [\n",
    "    \"Participant\",\n",
    "    \"Category Left_Blink\",\n",
    "    \"Category Left_Fixation\",\n",
    "    \"Category Left_Saccade\",\n",
    "    \"Category Right_Blink\",\n",
    "    \"Category Right_Fixation\",\n",
    "    \"Category Right_Saccade\",\n",
    "\n",
    "    \"Pupil Diameter Right [mm]\",\n",
    "    \"Pupil Diameter Left [mm]\",\n",
    "]\n",
    "\n",
    "df_as_is = df[as_is] # First taking the as is ones\n",
    "\n",
    "# Now the concat\n",
    "\n",
    "result = pd.concat([df_as_is, feat1_dist, feat2_dist_diffs], axis=1, join='outer')\n",
    "result\n"
   ]
  },
  {
   "cell_type": "code",
   "execution_count": null,
   "metadata": {},
   "outputs": [],
   "source": [
    "result\n",
    "\n",
    "# Splitting Sessions\n",
    "\n",
    "prevId = -1\n",
    "allSessions = []\n",
    "currSession = []\n",
    "for i, row in result.iterrows():\n",
    "    if row[\"Participant\"] != prevId:\n",
    "        prevId = row[\"Participant\"]\n",
    "        allSessions.append(currSession)\n",
    "        currSession = []\n",
    "    currSession.append(row)\n",
    "\n",
    "allSessions"
   ]
  },
  {
   "cell_type": "code",
   "execution_count": null,
   "metadata": {},
   "outputs": [],
   "source": []
  },
  {
   "cell_type": "code",
   "execution_count": null,
   "metadata": {},
   "outputs": [],
   "source": []
  },
  {
   "cell_type": "code",
   "execution_count": null,
   "metadata": {},
   "outputs": [],
   "source": []
  },
  {
   "cell_type": "code",
   "execution_count": null,
   "metadata": {},
   "outputs": [],
   "source": []
  },
  {
   "cell_type": "code",
   "execution_count": null,
   "metadata": {},
   "outputs": [],
   "source": []
  },
  {
   "cell_type": "code",
   "execution_count": null,
   "metadata": {},
   "outputs": [],
   "source": []
  },
  {
   "cell_type": "code",
   "execution_count": null,
   "metadata": {},
   "outputs": [],
   "source": []
  }
 ],
 "metadata": {
  "kernelspec": {
   "display_name": "Python 3",
   "language": "python",
   "name": "python3"
  },
  "language_info": {
   "name": "python",
   "version": "3.12.2"
  }
 },
 "nbformat": 4,
 "nbformat_minor": 2
}
